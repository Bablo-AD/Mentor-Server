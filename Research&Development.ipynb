{
 "cells": [
  {
   "cell_type": "markdown",
   "metadata": {},
   "source": [
    "# Prompt Handler building R&D"
   ]
  },
  {
   "cell_type": "code",
   "execution_count": null,
   "metadata": {},
   "outputs": [],
   "source": [
    "from dotenv import load_dotenv\n",
    "from brain import brain_api,message_history\n",
    "from data import HabiticaData,GoogleKeepData\n",
    "import os\n",
    "load_dotenv()"
   ]
  },
  {
   "cell_type": "code",
   "execution_count": null,
   "metadata": {},
   "outputs": [],
   "source": [
    "keep = GoogleKeepData(os.environ.get('KEEP_EMAIL'),os.environ.get('KEEP_PASSWORD'))\n",
    "keep = keep.execute(num_days=3)\n",
    "habitica = HabiticaData(os.environ.get('HABITICA_USER_ID'),os.environ.get('HABITICA_API_KEY'))\n",
    "habitica = habitica.execute(num_days=3)\n",
    "keep,habitica"
   ]
  },
  {
   "cell_type": "code",
   "execution_count": null,
   "metadata": {},
   "outputs": [],
   "source": [
    "from datetime import datetime\n",
    "TARGET_DATE = datetime.today()\n",
    "NUM_DAYS = 5\n",
    "load_user = message_history()\n",
    "load_user.load_mentorship(habitica,keep,TARGET_DATE,NUM_DAYS)\n",
    "load_user.messages"
   ]
  },
  {
   "cell_type": "code",
   "execution_count": null,
   "metadata": {},
   "outputs": [],
   "source": [
    "gpt_model = brain_api(os.environ.get('OPENAI_API_KEY'))\n",
    "gpt_model.get_completion(load_user,temperature=0.5,update_history=True)"
   ]
  },
  {
   "cell_type": "code",
   "execution_count": null,
   "metadata": {},
   "outputs": [],
   "source": [
    "load_user.messages = [{'role': 'user',\n",
    "  'content': 'Hey now you are my partner who criticizes me and helps me grow. Here I provide you my habits and journal entries from the past 5 days till 2023-06-13 19:31:52.885669'},\n",
    " {'role': 'user',\n",
    "  'content': 'My habits: [\\'Task Name                Date\\', \\'Oil hair 2023-06-10 03:55:47\\', \\'Sunday grooming list 2023-06-10 03:55:47\\', \\'Gratitude journal 2023-06-10 17:01:52\\', \\'Toilet 2023-06-10 17:01:53\\', \\'Exercise 2023-06-10 17:01:54\\', \\'Sunlight 2023-06-10 17:01:56\\', \\'Water the plants 2023-06-10 17:02:01\\', \\'Turn on focus mode 2023-06-10 17:02:06\\', \\'Worship god 2023-06-10 17:02:07\\', \\'Podcast 2023-06-10 17:02:08\\', \\'Hindi 2023-06-10 17:02:11\\', \\'Read book 2023-06-10 17:02:12\\', \\'Study for 6 to 8 2023-06-10 17:02:18\\', \\'External perspective thinking 2023-06-10 17:02:19\\', \\'No time wastage 2023-06-10 17:02:25\\', \\'Use social media 2023-06-10 17:02:29\\', \\'Journal 2023-06-10 17:02:30\\', \\'Talk with Master mind 2023-06-10 17:02:33\\', \\'10hrs sleep 2023-06-10 17:02:39\\', \\'Sunday grooming list 2023-06-12 16:35:37\\', \\'Shampoo 2023-06-12 16:35:37\\', \\'Oil hair 2023-06-12 16:35:37\\', \\'Gratitude journal 2023-06-12 16:40:11\\', \\'Toilet 2023-06-12 16:40:17\\', \\'Exercise 2023-06-12 16:40:19\\', \\'Sunlight 2023-06-12 16:40:21\\', \\'Water the plants 2023-06-12 16:40:22\\', \\'Worship god 2023-06-12 16:40:26\\', \\'Read book 2023-06-12 16:40:29\\', \\'Study for 6 to 8 2023-06-12 16:40:30\\', \\'Post on twitter 2023-06-12 16:40:40\\', \\'No time wastage 2023-06-12 16:40:42\\', \\'Journal 2023-06-12 17:28:15\\', \\'Talk with Master mind 2023-06-12 17:28:21\\']. My journal: [\"12.06.23 So today i woke up at 8:15ish brushed my teeth wrote gratitude my mind was fresh and clear Gone upstairs to get some sunlight. Came to poop the poop was light yellow. Exercised with the home workout app it was a good workout i am noticing that i am kind off breathing through my mouth these days it is bad i would like to fix it. Then i took bath with new shampoo from homeopathy thing i liked it next i went to post office to post some books that makes some kids learn. Next I came home turned on AC started to go over the email sent by the non-trivial got some interested about the 8000 hours thing then everything collapsed i relapsed and things went haywire i took some powernap then some thinking to get back track and gone to ibaco ice cream to get my mind to actually post in order to stay motivated and building stuff. The internet was less but i did my best then i played with a cockroach it was big and scared me a ton. Anyway the things went wrong are \\\\n- I didn\\'t stay in the place where i would be productive\\\\n- I should have made a decision to walk instead of fapping up\\\\nAnyway i did it so now the only plan is to get away from this is to get up and do things on my purpose like have rigid plans to work on so for tomorrow the iteration 2 starts the main important stuff about iteration 2 is integrating Bablo and Mentor. First integrate Bablo and Mentor app and make them work together.THIS IS MY PURPOSE AND I DO IT.t\", \\'10.6.23 Today I woke up brushed teeth done some walking passed of by light yellow poop. Done some exercise by walk and gone to my bros house to play some cards and stuff and i am not gonna discuss about it i am gonna discuss about the shape work that i have been producing so \\\\n\\']'},\n",
    " {'role': 'assistant',\n",
    "  'content': \"Thank you for sharing your habits and journal entries with me. It's great to see that you have a variety of positive habits such as gratitude journaling, exercising, and spending time in sunlight. \\n\\nHowever, I noticed that on June 12th, you had a setback and struggled to stay productive. It's important to acknowledge these moments and reflect on what led to them, as you have done in your journal entry. It's also great to see that you have a plan to improve and have set a specific goal for iteration 2. \\n\\nOne suggestion I have is to prioritize your habits and tasks each day. It can be overwhelming to try to do everything on your list, so consider focusing on the most important ones first. Also, try to eliminate any distractions or factors that may lead to unproductive behavior. \\n\\nOverall, keep up the good work and continue to reflect on your progress and areas for improvement.\"}]"
   ]
  },
  {
   "cell_type": "code",
   "execution_count": null,
   "metadata": {},
   "outputs": [],
   "source": [
    "load_user.messages = [load_user.messages[-1]]\n",
    "load_user.messages"
   ]
  },
  {
   "cell_type": "code",
   "execution_count": null,
   "metadata": {},
   "outputs": [],
   "source": [
    "load_user.load_python_fear()\n",
    "load_user.load_query()\n",
    "load_user.messages"
   ]
  },
  {
   "cell_type": "code",
   "execution_count": null,
   "metadata": {},
   "outputs": [],
   "source": [
    "#load_user.add_user(f'Hey i would like to watch youtube can you give me a search query that fits my goal')\n",
    "gpt_model.get_completion(load_user,temperature=0.5,update_history=True)"
   ]
  },
  {
   "cell_type": "code",
   "execution_count": null,
   "metadata": {},
   "outputs": [],
   "source": [
    "load_user.messages[-1]['content']"
   ]
  },
  {
   "cell_type": "code",
   "execution_count": null,
   "metadata": {},
   "outputs": [],
   "source": [
    "import re\n",
    "re.findall(r'\"([^\"]*)\"', load_user.messages[-1]['content'])"
   ]
  },
  {
   "cell_type": "code",
   "execution_count": null,
   "metadata": {},
   "outputs": [],
   "source": [
    "import openai\n",
    "import os\n",
    "import google.auth\n",
    "from googleapiclient.discovery import build\n",
    "from googleapiclient.errors import HttpError\n",
    "import re\n",
    "from brain import brain_api,message_history\n",
    "\n",
    "class youtube_recommender:\n",
    "  def __init__(self):\n",
    "    # Set up the YouTube Data API client\n",
    "    self.temperature = 0.3\n",
    "    api_service_name = \"youtube\"\n",
    "    api_version = \"v3\"\n",
    "    DEVELOPER_KEY = os.environ.get('YOUTUBE_API_KEY') # Replace with your own API key\n",
    "    self.youtube = build(api_service_name, api_version, developerKey=DEVELOPER_KEY)\n",
    "    self.gpt_model = brain_api(os.environ.get('OPENAI_API_KEY'))\n",
    "\n",
    "  # Makes query\n",
    "  def make_query(self,message_history,goal=''):\n",
    "    message_history.load_python_fear()\n",
    "    message_history.load_query(goal)\n",
    "    self.gpt_model.get_completion(load_user,temperature=self.temperature,update_history=True)\n",
    "    self.query = re.findall(r'\"([^\"]*)\"', message_history.messages[-1]['content'])\n",
    "    return self.query\n",
    "\n",
    "  def youtube_searcher(self):\n",
    "    search_response = self.youtube.search().list(\n",
    "    q=self.query,\n",
    "    type=\"video\",\n",
    "    part=\"id,snippet\",\n",
    "    maxResults=10\n",
    "    ).execute()\n",
    "    videos = []\n",
    "    for search_result in search_response.get(\"items\", []):\n",
    "        video_id = search_result[\"id\"][\"videoId\"]\n",
    "        video_title = search_result[\"snippet\"][\"title\"]\n",
    "        video_description = search_result[\"snippet\"][\"description\"]\n",
    "        video_tags = search_result[\"snippet\"][\"tags\"] if \"tags\" in search_result[\"snippet\"] else []\n",
    "        videos.append((video_title,video_id))\n",
    "    self.youtube_videos = videos\n",
    "    return self.youtube_videos\n",
    "\n",
    "  # We will commenting it for now we will work on it later\n",
    "  # def AI_filter(self):\n",
    "  #   completion = openai.ChatCompletion.create(\n",
    "  #   model=\"gpt-3.5-turbo\",\n",
    "  #   messages=[\n",
    "  #     {\"role\": \"user\",\"content\":f\"User journal: {self.short_journal}. Now i need you to help the user by selecting three youtube videos in the interest of {self.aspiration} from this list  {[x[0] for x in self.youtube_videos]}\"}\n",
    "\n",
    "  #     ],\n",
    "  #     temperature=0)\n",
    "  #   return completion.choices[0].message['content']\n",
    "    \n",
    "  \n",
    "  # def refine_completion(self,msg):\n",
    "  #   video_titles = re.findall(r'\\d+\\. (.+)', msg)\n",
    "  #   result_list = {\"completion\":msg}\n",
    "    \n",
    "  #   for title in video_titles:\n",
    "  #       for video in self.youtube_videos:\n",
    "  #         #second.append(video[0].strip(\"'\"))\n",
    "  #         if title.strip(\"'\") == video[0].strip(\"'\"):\n",
    "              \n",
    "  #           result_list[title]= video[1]\n",
    "  #           print(title,video)\n",
    "    \n",
    "  #   return result_list\n",
    "\n",
    "  def execute(self,message_history,goal=''):\n",
    "    self.make_query(message_history,goal)\n",
    "    return self.youtube_searcher()\n"
   ]
  },
  {
   "cell_type": "code",
   "execution_count": null,
   "metadata": {},
   "outputs": [],
   "source": [
    "recommend = youtube_recommender()\n",
    "recommend.make_query(load_user)"
   ]
  },
  {
   "cell_type": "code",
   "execution_count": null,
   "metadata": {},
   "outputs": [],
   "source": [
    "recommend.youtube_searcher()"
   ]
  },
  {
   "cell_type": "code",
   "execution_count": null,
   "metadata": {},
   "outputs": [],
   "source": [
    "load_user.messages"
   ]
  },
  {
   "cell_type": "code",
   "execution_count": null,
   "metadata": {},
   "outputs": [],
   "source": [
    "load_user.load_python_fear()\n",
    "recommend.gpt_model.get_completion(load_user,temperature=0.3,message=f'Hey i would be passing some results of the query I want you to choose videos that benefit the user')"
   ]
  },
  {
   "attachments": {},
   "cell_type": "markdown",
   "metadata": {},
   "source": [
    "# Youtube recommendation R&D"
   ]
  },
  {
   "cell_type": "code",
   "execution_count": null,
   "metadata": {},
   "outputs": [],
   "source": [
    "from recommendation_system import youtube_recommender\n",
    "from dotenv import load_dotenv\n",
    "from brain import brain_api\n",
    "import os\n",
    "load_dotenv()\n",
    "\n",
    "gpt_model = brain_api(os.environ.get(\"OPENAI_API_KEY\"))\n",
    "recommender = youtube_recommender(gpt_model = gpt_model)"
   ]
  },
  {
   "cell_type": "code",
   "execution_count": null,
   "metadata": {},
   "outputs": [],
   "source": [
    "recommender.query = ['Productivity tips and hacks', 'Morning routine for success', 'Overcoming challenges and staying motivated', 'Personal development and self-improvement', 'Time management strategies', 'Mindfulness and meditation practices', 'Building healthy habits and routines', 'Motivational speeches and inspirational videos', 'Entrepreneurship and business success stories', 'Technology and app development tutorials']"
   ]
  },
  {
   "cell_type": "code",
   "execution_count": null,
   "metadata": {},
   "outputs": [],
   "source": [
    "recommends = {}\n",
    "for i in recommender.query:\n",
    "    recommends[i] = recommender.youtube_searcher(query=i)\n",
    "recommends"
   ]
  },
  {
   "cell_type": "code",
   "execution_count": null,
   "metadata": {},
   "outputs": [],
   "source": [
    "recommends['Productivity tips and hacks']"
   ]
  },
  {
   "cell_type": "code",
   "execution_count": null,
   "metadata": {},
   "outputs": [],
   "source": [
    "\n",
    "search_response = recommender.youtube.search().list(\n",
    "    q='Productivity tips and hacks',\n",
    "    type=\"video\",\n",
    "    part=\"id,snippet,\n",
    "    maxResults=5,\n",
    "    order='rating',\n",
    "    ).execute()\n",
    "search_response.get(\"items\", [])"
   ]
  },
  {
   "cell_type": "code",
   "execution_count": null,
   "metadata": {},
   "outputs": [],
   "source": [
    "from youtube_transcript_api import YouTubeTranscriptApi\n",
    "\n",
    "YouTubeTranscriptApi.get_transcript(video_id)"
   ]
  },
  {
   "cell_type": "code",
   "execution_count": null,
   "metadata": {},
   "outputs": [],
   "source": [
    "import openai\n",
    "openai.api_key = \"nakku\"  # supply your API key however you choose\n",
    "\n",
    "completion = openai.ChatCompletion.create(model=\"gpt-3.5-turbo\", messages=[{\"role\": \"user\", \"content\": \"Hello world\"}])\n",
    "print(completion.choices[0].message.content)"
   ]
  },
  {
   "cell_type": "markdown",
   "metadata": {},
   "source": [
    "# Assistant Openai"
   ]
  },
  {
   "cell_type": "code",
   "execution_count": null,
   "metadata": {},
   "outputs": [],
   "source": [
    "from openai import OpenAI\n",
    "import os\n",
    "from dotenv import load_dotenv\n",
    "load_dotenv()\n",
    "client = OpenAI(api_key=os.environ.get(\"OPENAI_API_KEY\"))\n"
   ]
  },
  {
   "cell_type": "code",
   "execution_count": null,
   "metadata": {},
   "outputs": [],
   "source": [
    "thread = client.beta.threads.create()"
   ]
  },
  {
   "cell_type": "code",
   "execution_count": null,
   "metadata": {},
   "outputs": [],
   "source": [
    "thread.id"
   ]
  },
  {
   "cell_type": "code",
   "execution_count": null,
   "metadata": {},
   "outputs": [],
   "source": [
    "thread_id = thread.id"
   ]
  },
  {
   "cell_type": "code",
   "execution_count": null,
   "metadata": {},
   "outputs": [],
   "source": [
    "response = client.beta.threads.delete(\"thread_ZmeQWVdT7fz8DuXvoLLJuPyn\")"
   ]
  },
  {
   "cell_type": "code",
   "execution_count": null,
   "metadata": {},
   "outputs": [],
   "source": [
    "message = client.beta.threads.messages.create(\n",
    "    thread_id=thread_id,\n",
    "    role=\"user\",\n",
    "    content=\"Tomorrow is my exam and i didn't prepare anything what should i do?\",\n",
    ")"
   ]
  },
  {
   "cell_type": "code",
   "execution_count": null,
   "metadata": {},
   "outputs": [],
   "source": [
    "message.id"
   ]
  },
  {
   "cell_type": "code",
   "execution_count": null,
   "metadata": {},
   "outputs": [],
   "source": [
    "run = client.beta.threads.runs.create(\n",
    "  thread_id=thread.id,\n",
    "  assistant_id=\"asst_jRbfW9QFoxtbP9XR5W1QUgMr\",\n",
    ")"
   ]
  },
  {
   "cell_type": "code",
   "execution_count": null,
   "metadata": {},
   "outputs": [],
   "source": [
    "run = client.beta.threads.runs.retrieve(\n",
    "  thread_id=thread_id,\n",
    "  run_id=run.id\n",
    ")\n",
    "run.status, run"
   ]
  },
  {
   "cell_type": "code",
   "execution_count": null,
   "metadata": {},
   "outputs": [],
   "source": [
    "messages = client.beta.threads.messages.list(thread_id=thread_id,order=\"desc\",limit=1)\n",
    "messages"
   ]
  },
  {
   "cell_type": "code",
   "execution_count": null,
   "metadata": {},
   "outputs": [],
   "source": [
    "messages.data[-1].content[-1].text.value"
   ]
  },
  {
   "cell_type": "code",
   "execution_count": null,
   "metadata": {},
   "outputs": [],
   "source": [
    "if run.required_action:\n",
    "    for i in run.required_action.submit_tool_outputs.tool_calls:\n",
    "        print(i.function.name,i.function.arguments)\n",
    "        print(type(i.function.name),type(i.function.arguments))"
   ]
  },
  {
   "cell_type": "code",
   "execution_count": null,
   "metadata": {},
   "outputs": [],
   "source": [
    "run_step = client.beta.threads.runs.steps.retrieve(\n",
    "    thread_id=thread_id,\n",
    "    run_id=run.id,\n",
    "    step_id=\"step_abc123\"\n",
    ")\n",
    "run_step"
   ]
  },
  {
   "cell_type": "code",
   "execution_count": null,
   "metadata": {},
   "outputs": [],
   "source": [
    "messages = client.beta.threads.messages.list(\n",
    "  thread_id='thread_7h1V8SoNHQDcQNli9PMkd9RE'\n",
    ")\n",
    "messages.data[-1]"
   ]
  },
  {
   "cell_type": "code",
   "execution_count": null,
   "metadata": {},
   "outputs": [],
   "source": [
    "import requests as req\n",
    "import os\n",
    "from dotenv import load_dotenv\n",
    "load_dotenv()\n",
    "token = c\n",
    "org = \"org-RSXPRFppcuEboCAYlw4sjE5c\"\n",
    "url = \"https://api.openai.com/v1/threads\"\n",
    "\n",
    "headers = {\n",
    "    \"Authorization\": f\"Bearer {token}\",  \n",
    "    \"OpenAI-Beta\": \"assistants=v1\"\n",
    "}\n",
    "params = {\"limit\": 10}\n",
    "resp = req.get(url, headers=headers, params=params)\n",
    "print(resp.json())\n",
    "ids = [t['id'] for t in resp.json()['data']]\n",
    "\n",
    "while len(ids) > 0:\n",
    "    for tid in ids:\n",
    "        client.beta.threads.delete(tid)\n",
    "        time.sleep(1)\n",
    "    resp = req.get(url, headers=headers, params=params)\n",
    "    ids = [t['id'] for t in resp.json()['data']]\n"
   ]
  },
  {
   "cell_type": "code",
   "execution_count": null,
   "metadata": {},
   "outputs": [],
   "source": [
    "\n",
    "from openai import OpenAI\n",
    "client = OpenAI()\n",
    "\n",
    "run = client.beta.threads.runs.cancel(\n",
    "  thread_id=\"thread_qLQtIgSxIuEXWJstaTHA97nV\",\n",
    "  run_id=\"run_Es7ka9oE5gypykqKvz6V5U78\"\n",
    ")\n",
    "print(run)\n"
   ]
  },
  {
   "cell_type": "code",
   "execution_count": null,
   "metadata": {},
   "outputs": [],
   "source": [
    "messages = client.beta.threads.messages.list(thread_id=\"thread_qLQtIgSxIuEXWJstaTHA97nV\",order=\"desc\",limit=2)\n",
    "messages.data[0].content"
   ]
  },
  {
   "cell_type": "code",
   "execution_count": null,
   "metadata": {},
   "outputs": [],
   "source": [
    "from api.recommendation_system import youtube_recommender\n",
    "yt = youtube_recommender()\n",
    "yt.youtube_searcher({},query='Productivity tips and hacks')"
   ]
  },
  {
   "cell_type": "code",
   "execution_count": null,
   "metadata": {},
   "outputs": [],
   "source": [
    "import os\n",
    "from dotenv import load_dotenv\n",
    "load_dotenv()\n",
    "\n",
    "from llama_index.core import VectorStoreIndex, SimpleDirectoryReader\n",
    "\n",
    "documents = SimpleDirectoryReader(r\"C:\\Users\\prasannan-robots\\Desktop\\Mentor\\Mentor-Server\\data\").load_data()\n",
    "index = VectorStoreIndex.from_documents(documents)sssss"
   ]
  },
  {
   "cell_type": "markdown",
   "metadata": {},
   "source": [
    "# ChromaDB"
   ]
  },
  {
   "cell_type": "code",
   "execution_count": null,
   "metadata": {},
   "outputs": [],
   "source": [
    "import chromadb\n",
    "chroma_client = chromadb.Client()"
   ]
  },
  {
   "cell_type": "code",
   "execution_count": null,
   "metadata": {},
   "outputs": [],
   "source": [
    "collection = chroma_client.create_collection(name=\"my_collection\")"
   ]
  },
  {
   "cell_type": "code",
   "execution_count": null,
   "metadata": {},
   "outputs": [],
   "source": [
    "collection.add(\n",
    "    documents=[\"This is a document\", \"This is another document\"],\n",
    "    metadatas=[{\"source\": \"my_source\"}, {\"source\": \"my_source\"}],\n",
    "    ids=[\"id1\", \"id2\"]\n",
    ")"
   ]
  },
  {
   "cell_type": "code",
   "execution_count": null,
   "metadata": {},
   "outputs": [],
   "source": [
    "collection.add(\n",
    "    documents=[\"Robots are cool\", \"Robots can create documents\"],\n",
    "    metadatas=[{\"source\": \"my_source\"}, {\"source\": \"my_source\"}],\n",
    "    ids=[\"id3\", \"id4\"]\n",
    ")"
   ]
  },
  {
   "cell_type": "code",
   "execution_count": null,
   "metadata": {},
   "outputs": [],
   "source": [
    "results = collection.query(\n",
    "    query_texts=[\"Document\"],\n",
    "    n_results=4\n",
    ")"
   ]
  },
  {
   "cell_type": "code",
   "execution_count": null,
   "metadata": {},
   "outputs": [],
   "source": [
    "results"
   ]
  },
  {
   "cell_type": "code",
   "execution_count": null,
   "metadata": {},
   "outputs": [],
   "source": [
    "\n",
    "from dotenv import load_dotenv\n",
    "load_dotenv()\n",
    "from llama_index.core import VectorStoreIndex, SimpleDirectoryReader\n",
    "from llama_index.vector_stores.chroma import ChromaVectorStore\n",
    "from llama_index.core import StorageContext\n",
    "from llama_index.embeddings.huggingface import HuggingFaceEmbedding\n",
    "from IPython.display import Markdown, display\n",
    "import chromadb\n",
    "from llama_index.core.tools import QueryEngineTool, ToolMetadata\n",
    "from llama_index.core.agent import ReActAgent\n",
    "from llama_index.llms.openai import OpenAI\n",
    "from llama_index.core.storage.chat_store import SimpleChatStore\n",
    "from llama_index.core.memory import ChatMemoryBuffer\n",
    "#from llama_hub.youtube_transcript import YoutubeTranscriptReader\n",
    "# create client and a new collection\n",
    "chroma_client = chromadb.EphemeralClient()\n",
    "chroma_collection = chroma_client.create_collection(\"selfimprovement\")\n",
    "#youtube_collection = chroma_client.create_collection(\"youtube\")\n",
    "\n",
    "# load documents\n",
    "documents = SimpleDirectoryReader(\"./data/raw/\").load_data()\n",
    "\n",
    "# set up ChromaVectorStore and load in data\n",
    "vector_store = ChromaVectorStore(chroma_collection=chroma_collection)\n",
    "#youtube_store = ChromaVectorStore(chroma_collection=youtube_collection)\n",
    "\n",
    "storage_context = StorageContext.from_defaults(vector_store=vector_store)\n",
    "#yt_storage_context = StorageContext.from_defaults(vector_store=chat_store)\n",
    "index = VectorStoreIndex.from_documents(\n",
    "    documents, storage_context=storage_context\n",
    ")\n",
    "\n",
    "\n",
    "# Query Data\n",
    "query_engine = index.as_query_engine()\n",
    "#response = queryS_engine.query(\"What is lk99?\")\n",
    "#display(Markdown(f\"<b>{response}</b>\"))\n",
    "#print(response)\n",
    "\n"
   ]
  },
  {
   "cell_type": "code",
   "execution_count": null,
   "metadata": {},
   "outputs": [],
   "source": [
    "from llama_index.core.tools import FunctionTool\n",
    "import os\n",
    "from dotenv import load_dotenv\n",
    "load_dotenv()\n",
    "\n",
    "\n",
    "\n",
    "youtube_engine = FunctionTool.from_defaults(\n",
    "    fn=recommend_videos,\n",
    "    name=\"youtube_video_recommender\",\n",
    "    description=\"this tool is used to recommend youtube videos to users from search query\",\n",
    ")\n"
   ]
  },
  {
   "cell_type": "code",
   "execution_count": null,
   "metadata": {},
   "outputs": [],
   "source": [
    "def notification(title,body):\n",
    "    print(\"Notification\",title,body)\n",
    "    return \"Sent Notification\"\n",
    "\n",
    "\n",
    "notification_engine = FunctionTool.from_defaults(\n",
    "    fn=notification,\n",
    "    name=\"notification\",\n",
    "    description=\"this tool is used to send notification to user to keep him motivated\",\n",
    ")"
   ]
  },
  {
   "cell_type": "code",
   "execution_count": null,
   "metadata": {},
   "outputs": [],
   "source": [
    "chat_store = SimpleChatStore()\n",
    "context = \"\"\"Purpose: The primary role of this agent is to assist users by providing mentorship to build a better life\"\"\"\n",
    "\n",
    "chat_memory = ChatMemoryBuffer.from_defaults(\n",
    "    token_limit=3000,\n",
    "    chat_store=chat_store,\n",
    "    chat_store_key=\"user1\",\n",
    ")\n",
    "\n",
    "tools = [\n",
    "    \n",
    "    QueryEngineTool(\n",
    "        query_engine=query_engine,\n",
    "        metadata=ToolMetadata(\n",
    "            name=\"Atomic Habits\",\n",
    "            description=\"this gives detailed information on building habits\",\n",
    "        ),\n",
    "    ),\n",
    "\n",
    "    notification_engine\n",
    "]\n",
    "llm = OpenAI(model=\"gpt-3.5-turbo-0613\")\n",
    "agent = ReActAgent.from_tools(tools, llm=llm, verbose=True, context=context,memor)\n",
    "\n",
    "while (prompt := input(\"Enter a prompt (q to quit): \")) != \"q\":\n",
    "    result = agent.chat(prompt)\n",
    "    print(\"RESULT:\",result)\n",
    "    print(\"HISTORY:\",agent.memory)\n"
   ]
  },
  {
   "cell_type": "code",
   "execution_count": null,
   "metadata": {},
   "outputs": [],
   "source": [
    "yt_recommender.youtube_searcher(\"Exercise\")"
   ]
  },
  {
   "cell_type": "code",
   "execution_count": null,
   "metadata": {},
   "outputs": [],
   "source": [
    "from pydantic import BaseModel\n",
    "dir(BaseModel)"
   ]
  },
  {
   "cell_type": "code",
   "execution_count": null,
   "metadata": {},
   "outputs": [],
   "source": [
    "!pip install llama-index-readers-json"
   ]
  },
  {
   "cell_type": "code",
   "execution_count": null,
   "metadata": {},
   "outputs": [],
   "source": [
    "from llama_index.readers.json import JSONReader\n",
    "document = JSONReader()"
   ]
  },
  {
   "cell_type": "code",
   "execution_count": null,
   "metadata": {},
   "outputs": [],
   "source": [
    "import json\n",
    "tech = {\n",
    "    \"chat_history\": [\n",
    "        {\n",
    "            \"role\": \"user\",\n",
    "            \"content\": \"Can you remember my name?\",\n",
    "            \"additional_kwargs\": {}\n",
    "        },\n",
    "        {\n",
    "            \"role\": \"assistant\",\n",
    "            \"content\": \"I'm sorry, but as an AI assistant, I don't have the capability to remember personal information about individuals unless it has been shared with me in the current conversation. Is there anything else I can assist you with?\",\n",
    "            \"additional_kwargs\": {}\n",
    "        }\n",
    "    ]\n",
    "}\n",
    "json.dumps(tech)"
   ]
  },
  {
   "cell_type": "code",
   "execution_count": null,
   "metadata": {},
   "outputs": [],
   "source": []
  }
 ],
 "metadata": {
  "kernelspec": {
   "display_name": "env",
   "language": "python",
   "name": "python3"
  },
  "language_info": {
   "codemirror_mode": {
    "name": "ipython",
    "version": 3
   },
   "file_extension": ".py",
   "mimetype": "text/x-python",
   "name": "python",
   "nbconvert_exporter": "python",
   "pygments_lexer": "ipython3",
   "version": "3.11.8"
  },
  "orig_nbformat": 4
 },
 "nbformat": 4,
 "nbformat_minor": 2
}
