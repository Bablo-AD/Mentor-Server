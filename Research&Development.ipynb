{
 "cells": [
  {
   "cell_type": "markdown",
   "metadata": {},
   "source": [
    "# Prompt Handler building R&D"
   ]
  },
  {
   "cell_type": "code",
   "execution_count": null,
   "metadata": {},
   "outputs": [],
   "source": [
    "from dotenv import load_dotenv\n",
    "from brain import brain_api,message_history\n",
    "from data import HabiticaData,GoogleKeepData\n",
    "import os\n",
    "load_dotenv()"
   ]
  },
  {
   "cell_type": "code",
   "execution_count": null,
   "metadata": {},
   "outputs": [],
   "source": [
    "keep = GoogleKeepData(os.environ.get('KEEP_EMAIL'),os.environ.get('KEEP_PASSWORD'))\n",
    "keep = keep.execute(num_days=3)\n",
    "habitica = HabiticaData(os.environ.get('HABITICA_USER_ID'),os.environ.get('HABITICA_API_KEY'))\n",
    "habitica = habitica.execute(num_days=3)\n",
    "keep,habitica"
   ]
  },
  {
   "cell_type": "code",
   "execution_count": null,
   "metadata": {},
   "outputs": [],
   "source": [
    "from datetime import datetime\n",
    "TARGET_DATE = datetime.today()\n",
    "NUM_DAYS = 5\n",
    "load_user = message_history()\n",
    "load_user.load_mentorship(habitica,keep,TARGET_DATE,NUM_DAYS)\n",
    "load_user.messages"
   ]
  },
  {
   "cell_type": "code",
   "execution_count": null,
   "metadata": {},
   "outputs": [],
   "source": [
    "gpt_model = brain_api(os.environ.get('OPENAI_API_KEY'))\n",
    "gpt_model.get_completion(load_user,temperature=0.5,update_history=True)"
   ]
  },
  {
   "cell_type": "code",
   "execution_count": null,
   "metadata": {},
   "outputs": [],
   "source": [
    "load_user.messages = [{'role': 'user',\n",
    "  'content': 'Hey now you are my partner who criticizes me and helps me grow. Here I provide you my habits and journal entries from the past 5 days till 2023-06-13 19:31:52.885669'},\n",
    " {'role': 'user',\n",
    "  'content': 'My habits: [\\'Task Name                Date\\', \\'Oil hair 2023-06-10 03:55:47\\', \\'Sunday grooming list 2023-06-10 03:55:47\\', \\'Gratitude journal 2023-06-10 17:01:52\\', \\'Toilet 2023-06-10 17:01:53\\', \\'Exercise 2023-06-10 17:01:54\\', \\'Sunlight 2023-06-10 17:01:56\\', \\'Water the plants 2023-06-10 17:02:01\\', \\'Turn on focus mode 2023-06-10 17:02:06\\', \\'Worship god 2023-06-10 17:02:07\\', \\'Podcast 2023-06-10 17:02:08\\', \\'Hindi 2023-06-10 17:02:11\\', \\'Read book 2023-06-10 17:02:12\\', \\'Study for 6 to 8 2023-06-10 17:02:18\\', \\'External perspective thinking 2023-06-10 17:02:19\\', \\'No time wastage 2023-06-10 17:02:25\\', \\'Use social media 2023-06-10 17:02:29\\', \\'Journal 2023-06-10 17:02:30\\', \\'Talk with Master mind 2023-06-10 17:02:33\\', \\'10hrs sleep 2023-06-10 17:02:39\\', \\'Sunday grooming list 2023-06-12 16:35:37\\', \\'Shampoo 2023-06-12 16:35:37\\', \\'Oil hair 2023-06-12 16:35:37\\', \\'Gratitude journal 2023-06-12 16:40:11\\', \\'Toilet 2023-06-12 16:40:17\\', \\'Exercise 2023-06-12 16:40:19\\', \\'Sunlight 2023-06-12 16:40:21\\', \\'Water the plants 2023-06-12 16:40:22\\', \\'Worship god 2023-06-12 16:40:26\\', \\'Read book 2023-06-12 16:40:29\\', \\'Study for 6 to 8 2023-06-12 16:40:30\\', \\'Post on twitter 2023-06-12 16:40:40\\', \\'No time wastage 2023-06-12 16:40:42\\', \\'Journal 2023-06-12 17:28:15\\', \\'Talk with Master mind 2023-06-12 17:28:21\\']. My journal: [\"12.06.23 So today i woke up at 8:15ish brushed my teeth wrote gratitude my mind was fresh and clear Gone upstairs to get some sunlight. Came to poop the poop was light yellow. Exercised with the home workout app it was a good workout i am noticing that i am kind off breathing through my mouth these days it is bad i would like to fix it. Then i took bath with new shampoo from homeopathy thing i liked it next i went to post office to post some books that makes some kids learn. Next I came home turned on AC started to go over the email sent by the non-trivial got some interested about the 8000 hours thing then everything collapsed i relapsed and things went haywire i took some powernap then some thinking to get back track and gone to ibaco ice cream to get my mind to actually post in order to stay motivated and building stuff. The internet was less but i did my best then i played with a cockroach it was big and scared me a ton. Anyway the things went wrong are \\\\n- I didn\\'t stay in the place where i would be productive\\\\n- I should have made a decision to walk instead of fapping up\\\\nAnyway i did it so now the only plan is to get away from this is to get up and do things on my purpose like have rigid plans to work on so for tomorrow the iteration 2 starts the main important stuff about iteration 2 is integrating Bablo and Mentor. First integrate Bablo and Mentor app and make them work together.THIS IS MY PURPOSE AND I DO IT.t\", \\'10.6.23 Today I woke up brushed teeth done some walking passed of by light yellow poop. Done some exercise by walk and gone to my bros house to play some cards and stuff and i am not gonna discuss about it i am gonna discuss about the shape work that i have been producing so \\\\n\\']'},\n",
    " {'role': 'assistant',\n",
    "  'content': \"Thank you for sharing your habits and journal entries with me. It's great to see that you have a variety of positive habits such as gratitude journaling, exercising, and spending time in sunlight. \\n\\nHowever, I noticed that on June 12th, you had a setback and struggled to stay productive. It's important to acknowledge these moments and reflect on what led to them, as you have done in your journal entry. It's also great to see that you have a plan to improve and have set a specific goal for iteration 2. \\n\\nOne suggestion I have is to prioritize your habits and tasks each day. It can be overwhelming to try to do everything on your list, so consider focusing on the most important ones first. Also, try to eliminate any distractions or factors that may lead to unproductive behavior. \\n\\nOverall, keep up the good work and continue to reflect on your progress and areas for improvement.\"}]"
   ]
  },
  {
   "cell_type": "code",
   "execution_count": null,
   "metadata": {},
   "outputs": [],
   "source": [
    "load_user.messages = [load_user.messages[-1]]\n",
    "load_user.messages"
   ]
  },
  {
   "cell_type": "code",
   "execution_count": null,
   "metadata": {},
   "outputs": [],
   "source": [
    "load_user.load_python_fear()\n",
    "load_user.load_query()\n",
    "load_user.messages"
   ]
  },
  {
   "cell_type": "code",
   "execution_count": null,
   "metadata": {},
   "outputs": [],
   "source": [
    "#load_user.add_user(f'Hey i would like to watch youtube can you give me a search query that fits my goal')\n",
    "gpt_model.get_completion(load_user,temperature=0.5,update_history=True)"
   ]
  },
  {
   "cell_type": "code",
   "execution_count": null,
   "metadata": {},
   "outputs": [],
   "source": [
    "load_user.messages[-1]['content']"
   ]
  },
  {
   "cell_type": "code",
   "execution_count": null,
   "metadata": {},
   "outputs": [],
   "source": [
    "import re\n",
    "re.findall(r'\"([^\"]*)\"', load_user.messages[-1]['content'])"
   ]
  },
  {
   "cell_type": "code",
   "execution_count": null,
   "metadata": {},
   "outputs": [],
   "source": [
    "import openai\n",
    "import os\n",
    "import google.auth\n",
    "from googleapiclient.discovery import build\n",
    "from googleapiclient.errors import HttpError\n",
    "import re\n",
    "from brain import brain_api,message_history\n",
    "\n",
    "class youtube_recommender:\n",
    "  def __init__(self):\n",
    "    # Set up the YouTube Data API client\n",
    "    self.temperature = 0.3\n",
    "    api_service_name = \"youtube\"\n",
    "    api_version = \"v3\"\n",
    "    DEVELOPER_KEY = os.environ.get('YOUTUBE_API_KEY') # Replace with your own API key\n",
    "    self.youtube = build(api_service_name, api_version, developerKey=DEVELOPER_KEY)\n",
    "    self.gpt_model = brain_api(os.environ.get('OPENAI_API_KEY'))\n",
    "\n",
    "  # Makes query\n",
    "  def make_query(self,message_history,goal=''):\n",
    "    message_history.load_python_fear()\n",
    "    message_history.load_query(goal)\n",
    "    self.gpt_model.get_completion(load_user,temperature=self.temperature,update_history=True)\n",
    "    self.query = re.findall(r'\"([^\"]*)\"', message_history.messages[-1]['content'])\n",
    "    return self.query\n",
    "\n",
    "  def youtube_searcher(self):\n",
    "    search_response = self.youtube.search().list(\n",
    "    q=self.query,\n",
    "    type=\"video\",\n",
    "    part=\"id,snippet\",\n",
    "    maxResults=10\n",
    "    ).execute()\n",
    "    videos = []\n",
    "    for search_result in search_response.get(\"items\", []):\n",
    "        video_id = search_result[\"id\"][\"videoId\"]\n",
    "        video_title = search_result[\"snippet\"][\"title\"]\n",
    "        video_description = search_result[\"snippet\"][\"description\"]\n",
    "        video_tags = search_result[\"snippet\"][\"tags\"] if \"tags\" in search_result[\"snippet\"] else []\n",
    "        videos.append((video_title,video_id))\n",
    "    self.youtube_videos = videos\n",
    "    return self.youtube_videos\n",
    "\n",
    "  # We will commenting it for now we will work on it later\n",
    "  # def AI_filter(self):\n",
    "  #   completion = openai.ChatCompletion.create(\n",
    "  #   model=\"gpt-3.5-turbo\",\n",
    "  #   messages=[\n",
    "  #     {\"role\": \"user\",\"content\":f\"User journal: {self.short_journal}. Now i need you to help the user by selecting three youtube videos in the interest of {self.aspiration} from this list  {[x[0] for x in self.youtube_videos]}\"}\n",
    "\n",
    "  #     ],\n",
    "  #     temperature=0)\n",
    "  #   return completion.choices[0].message['content']\n",
    "    \n",
    "  \n",
    "  # def refine_completion(self,msg):\n",
    "  #   video_titles = re.findall(r'\\d+\\. (.+)', msg)\n",
    "  #   result_list = {\"completion\":msg}\n",
    "    \n",
    "  #   for title in video_titles:\n",
    "  #       for video in self.youtube_videos:\n",
    "  #         #second.append(video[0].strip(\"'\"))\n",
    "  #         if title.strip(\"'\") == video[0].strip(\"'\"):\n",
    "              \n",
    "  #           result_list[title]= video[1]\n",
    "  #           print(title,video)\n",
    "    \n",
    "  #   return result_list\n",
    "\n",
    "  def execute(self,message_history,goal=''):\n",
    "    self.make_query(message_history,goal)\n",
    "    return self.youtube_searcher()\n"
   ]
  },
  {
   "cell_type": "code",
   "execution_count": null,
   "metadata": {},
   "outputs": [],
   "source": [
    "recommend = youtube_recommender()\n",
    "recommend.make_query(load_user)"
   ]
  },
  {
   "cell_type": "code",
   "execution_count": null,
   "metadata": {},
   "outputs": [],
   "source": [
    "recommend.youtube_searcher()"
   ]
  },
  {
   "cell_type": "code",
   "execution_count": null,
   "metadata": {},
   "outputs": [],
   "source": [
    "load_user.messages"
   ]
  },
  {
   "cell_type": "code",
   "execution_count": null,
   "metadata": {},
   "outputs": [],
   "source": [
    "load_user.load_python_fear()\n",
    "recommend.gpt_model.get_completion(load_user,temperature=0.3,message=f'Hey i would be passing some results of the query I want you to choose videos that benefit the user')"
   ]
  },
  {
   "attachments": {},
   "cell_type": "markdown",
   "metadata": {},
   "source": [
    "# Youtube recommendation R&D"
   ]
  },
  {
   "cell_type": "code",
   "execution_count": null,
   "metadata": {},
   "outputs": [],
   "source": [
    "from recommendation_system import youtube_recommender\n",
    "from dotenv import load_dotenv\n",
    "from brain import brain_api\n",
    "import os\n",
    "load_dotenv()\n",
    "\n",
    "gpt_model = brain_api(os.environ.get(\"OPENAI_API_KEY\"))\n",
    "recommender = youtube_recommender(gpt_model = gpt_model)"
   ]
  },
  {
   "cell_type": "code",
   "execution_count": null,
   "metadata": {},
   "outputs": [],
   "source": [
    "recommender.query = ['Productivity tips and hacks', 'Morning routine for success', 'Overcoming challenges and staying motivated', 'Personal development and self-improvement', 'Time management strategies', 'Mindfulness and meditation practices', 'Building healthy habits and routines', 'Motivational speeches and inspirational videos', 'Entrepreneurship and business success stories', 'Technology and app development tutorials']"
   ]
  },
  {
   "cell_type": "code",
   "execution_count": null,
   "metadata": {},
   "outputs": [],
   "source": [
    "recommends = {}\n",
    "for i in recommender.query:\n",
    "    recommends[i] = recommender.youtube_searcher(query=i)\n",
    "recommends"
   ]
  },
  {
   "cell_type": "code",
   "execution_count": null,
   "metadata": {},
   "outputs": [],
   "source": [
    "recommends['Productivity tips and hacks']"
   ]
  },
  {
   "cell_type": "code",
   "execution_count": null,
   "metadata": {},
   "outputs": [],
   "source": [
    "\n",
    "search_response = recommender.youtube.search().list(\n",
    "    q='Productivity tips and hacks',\n",
    "    type=\"video\",\n",
    "    part=\"id,snippet,\n",
    "    maxResults=5,\n",
    "    order='rating',\n",
    "    ).execute()\n",
    "search_response.get(\"items\", [])"
   ]
  },
  {
   "cell_type": "code",
   "execution_count": null,
   "metadata": {},
   "outputs": [],
   "source": [
    "from youtube_transcript_api import YouTubeTranscriptApi\n",
    "\n",
    "YouTubeTranscriptApi.get_transcript(video_id)"
   ]
  },
  {
   "cell_type": "code",
   "execution_count": null,
   "metadata": {},
   "outputs": [],
   "source": [
    "import openai\n",
    "openai.api_key = \"nakku\"  # supply your API key however you choose\n",
    "\n",
    "completion = openai.ChatCompletion.create(model=\"gpt-3.5-turbo\", messages=[{\"role\": \"user\", \"content\": \"Hello world\"}])\n",
    "print(completion.choices[0].message.content)"
   ]
  },
  {
   "cell_type": "markdown",
   "metadata": {},
   "source": [
    "# Assistant Openai"
   ]
  },
  {
   "cell_type": "code",
   "execution_count": null,
   "metadata": {},
   "outputs": [],
   "source": [
    "from openai import OpenAI\n",
    "import os\n",
    "from dotenv import load_dotenv\n",
    "load_dotenv()\n",
    "client = OpenAI(api_key=os.environ.get(\"OPENAI_API_KEY\"))\n"
   ]
  },
  {
   "cell_type": "code",
   "execution_count": null,
   "metadata": {},
   "outputs": [],
   "source": [
    "thread = client.beta.threads.create()"
   ]
  },
  {
   "cell_type": "code",
   "execution_count": null,
   "metadata": {},
   "outputs": [],
   "source": [
    "thread.id"
   ]
  },
  {
   "cell_type": "code",
   "execution_count": null,
   "metadata": {},
   "outputs": [],
   "source": [
    "thread_id = thread.id"
   ]
  },
  {
   "cell_type": "code",
   "execution_count": null,
   "metadata": {},
   "outputs": [],
   "source": [
    "response = client.beta.threads.delete(\"thread_ZmeQWVdT7fz8DuXvoLLJuPyn\")"
   ]
  },
  {
   "cell_type": "code",
   "execution_count": null,
   "metadata": {},
   "outputs": [],
   "source": [
    "message = client.beta.threads.messages.create(\n",
    "    thread_id=thread_id,\n",
    "    role=\"user\",\n",
    "    content=\"Tomorrow is my exam and i didn't prepare anything what should i do?\",\n",
    ")"
   ]
  },
  {
   "cell_type": "code",
   "execution_count": null,
   "metadata": {},
   "outputs": [],
   "source": [
    "message.id"
   ]
  },
  {
   "cell_type": "code",
   "execution_count": null,
   "metadata": {},
   "outputs": [],
   "source": [
    "run = client.beta.threads.runs.create(\n",
    "  thread_id=thread.id,\n",
    "  assistant_id=\"asst_jRbfW9QFoxtbP9XR5W1QUgMr\",\n",
    ")"
   ]
  },
  {
   "cell_type": "code",
   "execution_count": null,
   "metadata": {},
   "outputs": [],
   "source": [
    "run = client.beta.threads.runs.retrieve(\n",
    "  thread_id=thread_id,\n",
    "  run_id=run.id\n",
    ")\n",
    "run.status, run"
   ]
  },
  {
   "cell_type": "code",
   "execution_count": null,
   "metadata": {},
   "outputs": [],
   "source": [
    "messages = client.beta.threads.messages.list(thread_id=thread_id,order=\"desc\",limit=1)\n",
    "messages"
   ]
  },
  {
   "cell_type": "code",
   "execution_count": null,
   "metadata": {},
   "outputs": [],
   "source": [
    "messages.data[-1].content[-1].text.value"
   ]
  },
  {
   "cell_type": "code",
   "execution_count": null,
   "metadata": {},
   "outputs": [],
   "source": [
    "if run.required_action:\n",
    "    for i in run.required_action.submit_tool_outputs.tool_calls:\n",
    "        print(i.function.name,i.function.arguments)\n",
    "        print(type(i.function.name),type(i.function.arguments))"
   ]
  },
  {
   "cell_type": "code",
   "execution_count": null,
   "metadata": {},
   "outputs": [],
   "source": [
    "run_step = client.beta.threads.runs.steps.retrieve(\n",
    "    thread_id=thread_id,\n",
    "    run_id=run.id,\n",
    "    step_id=\"step_abc123\"\n",
    ")\n",
    "run_step"
   ]
  },
  {
   "cell_type": "code",
   "execution_count": null,
   "metadata": {},
   "outputs": [],
   "source": [
    "messages = client.beta.threads.messages.list(\n",
    "  thread_id='thread_7h1V8SoNHQDcQNli9PMkd9RE'\n",
    ")\n",
    "messages.data[-1]"
   ]
  },
  {
   "cell_type": "code",
   "execution_count": null,
   "metadata": {},
   "outputs": [],
   "source": [
    "import requests as req\n",
    "import os\n",
    "from dotenv import load_dotenv\n",
    "load_dotenv()\n",
    "token = c\n",
    "org = \"org-RSXPRFppcuEboCAYlw4sjE5c\"\n",
    "url = \"https://api.openai.com/v1/threads\"\n",
    "\n",
    "headers = {\n",
    "    \"Authorization\": f\"Bearer {token}\",  \n",
    "    \"OpenAI-Beta\": \"assistants=v1\"\n",
    "}\n",
    "params = {\"limit\": 10}\n",
    "resp = req.get(url, headers=headers, params=params)\n",
    "print(resp.json())\n",
    "ids = [t['id'] for t in resp.json()['data']]\n",
    "\n",
    "while len(ids) > 0:\n",
    "    for tid in ids:\n",
    "        client.beta.threads.delete(tid)\n",
    "        time.sleep(1)\n",
    "    resp = req.get(url, headers=headers, params=params)\n",
    "    ids = [t['id'] for t in resp.json()['data']]\n"
   ]
  },
  {
   "cell_type": "code",
   "execution_count": null,
   "metadata": {},
   "outputs": [],
   "source": [
    "\n",
    "from openai import OpenAI\n",
    "client = OpenAI()\n",
    "\n",
    "run = client.beta.threads.runs.cancel(\n",
    "  thread_id=\"thread_qLQtIgSxIuEXWJstaTHA97nV\",\n",
    "  run_id=\"run_Es7ka9oE5gypykqKvz6V5U78\"\n",
    ")\n",
    "print(run)\n"
   ]
  },
  {
   "cell_type": "code",
   "execution_count": null,
   "metadata": {},
   "outputs": [],
   "source": [
    "messages = client.beta.threads.messages.list(thread_id=\"thread_qLQtIgSxIuEXWJstaTHA97nV\",order=\"desc\",limit=2)\n",
    "messages.data[0].content"
   ]
  },
  {
   "cell_type": "code",
   "execution_count": null,
   "metadata": {},
   "outputs": [],
   "source": [
    "from api.recommendation_system import youtube_recommender\n",
    "yt = youtube_recommender()\n",
    "yt.youtube_searcher({},query='Productivity tips and hacks')"
   ]
  },
  {
   "cell_type": "code",
   "execution_count": null,
   "metadata": {},
   "outputs": [],
   "source": [
    "import os\n",
    "from dotenv import load_dotenv\n",
    "load_dotenv()\n",
    "\n",
    "from llama_index.core import VectorStoreIndex, SimpleDirectoryReader\n",
    "\n",
    "documents = SimpleDirectoryReader(r\"C:\\Users\\prasannan-robots\\Desktop\\Mentor\\Mentor-Server\\data\").load_data()\n",
    "index = VectorStoreIndex.from_documents(documents)sssss"
   ]
  },
  {
   "cell_type": "markdown",
   "metadata": {},
   "source": [
    "# ChromaDB"
   ]
  },
  {
   "cell_type": "code",
   "execution_count": null,
   "metadata": {},
   "outputs": [],
   "source": [
    "import chromadb\n",
    "chroma_client = chromadb.Client()"
   ]
  },
  {
   "cell_type": "code",
   "execution_count": null,
   "metadata": {},
   "outputs": [],
   "source": [
    "collection = chroma_client.create_collection(name=\"my_collection\")"
   ]
  },
  {
   "cell_type": "code",
   "execution_count": null,
   "metadata": {},
   "outputs": [],
   "source": [
    "collection.add(\n",
    "    documents=[\"This is a document\", \"This is another document\"],\n",
    "    metadatas=[{\"source\": \"my_source\"}, {\"source\": \"my_source\"}],\n",
    "    ids=[\"id1\", \"id2\"]\n",
    ")"
   ]
  },
  {
   "cell_type": "code",
   "execution_count": null,
   "metadata": {},
   "outputs": [],
   "source": [
    "collection.add(\n",
    "    documents=[\"Robots are cool\", \"Robots can create documents\"],\n",
    "    metadatas=[{\"source\": \"my_source\"}, {\"source\": \"my_source\"}],\n",
    "    ids=[\"id3\", \"id4\"]\n",
    ")"
   ]
  },
  {
   "cell_type": "code",
   "execution_count": null,
   "metadata": {},
   "outputs": [],
   "source": [
    "results = collection.query(\n",
    "    query_texts=[\"Document\"],\n",
    "    n_results=4\n",
    ")"
   ]
  },
  {
   "cell_type": "code",
   "execution_count": null,
   "metadata": {},
   "outputs": [],
   "source": [
    "results"
   ]
  },
  {
   "cell_type": "code",
   "execution_count": null,
   "metadata": {},
   "outputs": [],
   "source": [
    "\n",
    "from dotenv import load_dotenv\n",
    "load_dotenv()\n",
    "from llama_index.core import VectorStoreIndex, SimpleDirectoryReader\n",
    "from llama_index.vector_stores.chroma import ChromaVectorStore\n",
    "from llama_index.core import StorageContext\n",
    "from llama_index.embeddings.huggingface import HuggingFaceEmbedding\n",
    "from IPython.display import Markdown, display\n",
    "import chromadb\n",
    "from llama_index.core.tools import QueryEngineTool, ToolMetadata\n",
    "from llama_index.core.agent import ReActAgent\n",
    "from llama_index.llms.openai import OpenAI\n",
    "from llama_index.core.storage.chat_store import SimpleChatStore\n",
    "from llama_index.core.memory import ChatMemoryBuffer\n",
    "#from llama_hub.youtube_transcript import YoutubeTranscriptReader\n",
    "# create client and a new collection\n",
    "chroma_client = chromadb.EphemeralClient()\n",
    "chroma_collection = chroma_client.create_collection(\"selfimprovement\")\n",
    "#youtube_collection = chroma_client.create_collection(\"youtube\")\n",
    "\n",
    "# load documents\n",
    "documents = SimpleDirectoryReader(\"./data/raw/\").load_data()\n",
    "\n",
    "# set up ChromaVectorStore and load in data\n",
    "vector_store = ChromaVectorStore(chroma_collection=chroma_collection)\n",
    "#youtube_store = ChromaVectorStore(chroma_collection=youtube_collection)\n",
    "\n",
    "storage_context = StorageContext.from_defaults(vector_store=vector_store)\n",
    "#yt_storage_context = StorageContext.from_defaults(vector_store=chat_store)\n",
    "index = VectorStoreIndex.from_documents(\n",
    "    documents, storage_context=storage_context\n",
    ")\n",
    "\n",
    "\n",
    "# Query Data\n",
    "query_engine = index.as_query_engine()\n",
    "#response = queryS_engine.query(\"What is lk99?\")\n",
    "#display(Markdown(f\"<b>{response}</b>\"))\n",
    "#print(response)\n",
    "\n"
   ]
  },
  {
   "cell_type": "code",
   "execution_count": null,
   "metadata": {},
   "outputs": [],
   "source": [
    "from llama_index.core.tools import FunctionTool\n",
    "import os\n",
    "from dotenv import load_dotenv\n",
    "load_dotenv()\n",
    "from lib.recommendation_system import youtube_recommender\n",
    "def recommend_videos(query):\n",
    "    video_data = youtube_recommender.youtube_searcher(query)\n",
    "    print(video_data)\n",
    "    return \"Sent Videos\"\n",
    "\n",
    "youtube_engine = FunctionTool.from_defaults(\n",
    "    fn=recommend_videos,\n",
    "    name=\"youtube_video_recommender\",\n",
    "    description=\"this tool is used to recommend youtube videos to users from search query\",\n",
    ")\n"
   ]
  },
  {
   "cell_type": "code",
   "execution_count": null,
   "metadata": {},
   "outputs": [],
   "source": [
    "recommend_videos(\"Robotics\")"
   ]
  },
  {
   "cell_type": "code",
   "execution_count": null,
   "metadata": {},
   "outputs": [],
   "source": [
    "def notification(title,body):\n",
    "    print(\"Notification\",title,body)\n",
    "    return \"Sent Notification\"\n",
    "\n",
    "\n",
    "notification_engine = FunctionTool.from_defaults(\n",
    "    fn=notification,\n",
    "    name=\"notification\",\n",
    "    description=\"this tool is used to send notification to user to keep him motivated\",\n",
    ")"
   ]
  },
  {
   "cell_type": "code",
   "execution_count": null,
   "metadata": {},
   "outputs": [],
   "source": [
    "chat_store = SimpleChatStore()\n",
    "context = \"\"\"Purpose: The primary role of this agent is to assist users by providing mentorship to build a better life\"\"\"\n",
    "\n",
    "chat_memory = ChatMemoryBuffer.from_defaults(\n",
    "    token_limit=3000,\n",
    "    chat_store=chat_store,\n",
    "    chat_store_key=\"user1\",\n",
    ")\n",
    "\n",
    "tools = [\n",
    "    \n",
    "    QueryEngineTool(\n",
    "        query_engine=query_engine,\n",
    "        metadata=ToolMetadata(\n",
    "            name=\"Atomic Habits\",\n",
    "            description=\"this gives detailed information on building habits\",\n",
    "        ),\n",
    "    ),\n",
    "\n",
    "    notification_engine\n",
    "]\n",
    "llm = OpenAI(model=\"gpt-3.5-turbo-0613\")\n",
    "agent = ReActAgent.from_tools(tools, llm=llm, verbose=True, context=context,memor)\n",
    "\n",
    "while (prompt := input(\"Enter a prompt (q to quit): \")) != \"q\":\n",
    "    result = agent.chat(prompt)\n",
    "    print(\"RESULT:\",result)\n",
    "    print(\"HISTORY:\",agent.memory)\n"
   ]
  },
  {
   "cell_type": "code",
   "execution_count": null,
   "metadata": {},
   "outputs": [],
   "source": [
    "yt_recommender.youtube_searcher(\"Exercise\")"
   ]
  },
  {
   "cell_type": "code",
   "execution_count": null,
   "metadata": {},
   "outputs": [],
   "source": [
    "from pydantic import BaseModel\n",
    "dir(BaseModel)"
   ]
  },
  {
   "cell_type": "code",
   "execution_count": null,
   "metadata": {},
   "outputs": [],
   "source": [
    "!pip install llama-index-readers-json"
   ]
  },
  {
   "cell_type": "code",
   "execution_count": null,
   "metadata": {},
   "outputs": [],
   "source": [
    "from llama_index.readers.json import JSONReader\n",
    "document = JSONReader()"
   ]
  },
  {
   "cell_type": "code",
   "execution_count": null,
   "metadata": {},
   "outputs": [],
   "source": [
    "import json\n",
    "tech = {\n",
    "    \"chat_history\": [\n",
    "        {\n",
    "            \"role\": \"user\",\n",
    "            \"content\": \"Can you remember my name?\",\n",
    "            \"additional_kwargs\": {}\n",
    "        },\n",
    "        {\n",
    "            \"role\": \"assistant\",\n",
    "            \"content\": \"I'm sorry, but as an AI assistant, I don't have the capability to remember personal information about individuals unless it has been shared with me in the current conversation. Is there anything else I can assist you with?\",\n",
    "            \"additional_kwargs\": {}\n",
    "        }\n",
    "    ]\n",
    "}\n",
    "json.dumps(tech)"
   ]
  },
  {
   "cell_type": "code",
   "execution_count": 2,
   "metadata": {},
   "outputs": [
    {
     "name": "stdout",
     "output_type": "stream",
     "text": [
      "Collecting llama-index-readers-youtube-transcriptNote: you may need to restart the kernel to use updated packages.\n",
      "\n",
      "  Using cached llama_index_readers_youtube_transcript-0.1.4-py3-none-any.whl.metadata (2.0 kB)\n",
      "Requirement already satisfied: llama-index-core<0.11.0,>=0.10.1 in c:\\users\\prasannan-robots\\desktop\\mentor\\mentor-server\\devenv\\lib\\site-packages (from llama-index-readers-youtube-transcript) (0.10.12)\n",
      "Requirement already satisfied: youtube-transcript-api>=0.5.0 in c:\\users\\prasannan-robots\\desktop\\mentor\\mentor-server\\devenv\\lib\\site-packages (from llama-index-readers-youtube-transcript) (0.6.2)\n",
      "Requirement already satisfied: PyYAML>=6.0.1 in c:\\users\\prasannan-robots\\desktop\\mentor\\mentor-server\\devenv\\lib\\site-packages (from llama-index-core<0.11.0,>=0.10.1->llama-index-readers-youtube-transcript) (6.0.1)\n",
      "Requirement already satisfied: SQLAlchemy>=1.4.49 in c:\\users\\prasannan-robots\\desktop\\mentor\\mentor-server\\devenv\\lib\\site-packages (from SQLAlchemy[asyncio]>=1.4.49->llama-index-core<0.11.0,>=0.10.1->llama-index-readers-youtube-transcript) (2.0.27)\n",
      "Requirement already satisfied: aiohttp<4.0.0,>=3.8.6 in c:\\users\\prasannan-robots\\desktop\\mentor\\mentor-server\\devenv\\lib\\site-packages (from llama-index-core<0.11.0,>=0.10.1->llama-index-readers-youtube-transcript) (3.9.3)\n",
      "Requirement already satisfied: dataclasses-json in c:\\users\\prasannan-robots\\desktop\\mentor\\mentor-server\\devenv\\lib\\site-packages (from llama-index-core<0.11.0,>=0.10.1->llama-index-readers-youtube-transcript) (0.6.4)\n",
      "Requirement already satisfied: deprecated>=1.2.9.3 in c:\\users\\prasannan-robots\\desktop\\mentor\\mentor-server\\devenv\\lib\\site-packages (from llama-index-core<0.11.0,>=0.10.1->llama-index-readers-youtube-transcript) (1.2.14)\n",
      "Requirement already satisfied: dirtyjson<2.0.0,>=1.0.8 in c:\\users\\prasannan-robots\\desktop\\mentor\\mentor-server\\devenv\\lib\\site-packages (from llama-index-core<0.11.0,>=0.10.1->llama-index-readers-youtube-transcript) (1.0.8)\n",
      "Requirement already satisfied: fsspec>=2023.5.0 in c:\\users\\prasannan-robots\\desktop\\mentor\\mentor-server\\devenv\\lib\\site-packages (from llama-index-core<0.11.0,>=0.10.1->llama-index-readers-youtube-transcript) (2024.2.0)\n",
      "Requirement already satisfied: httpx in c:\\users\\prasannan-robots\\desktop\\mentor\\mentor-server\\devenv\\lib\\site-packages (from llama-index-core<0.11.0,>=0.10.1->llama-index-readers-youtube-transcript) (0.26.0)\n",
      "Requirement already satisfied: llamaindex-py-client<0.2.0,>=0.1.13 in c:\\users\\prasannan-robots\\desktop\\mentor\\mentor-server\\devenv\\lib\\site-packages (from llama-index-core<0.11.0,>=0.10.1->llama-index-readers-youtube-transcript) (0.1.13)\n",
      "Requirement already satisfied: nest-asyncio<2.0.0,>=1.5.8 in c:\\users\\prasannan-robots\\desktop\\mentor\\mentor-server\\devenv\\lib\\site-packages (from llama-index-core<0.11.0,>=0.10.1->llama-index-readers-youtube-transcript) (1.5.9)\n",
      "Requirement already satisfied: networkx>=3.0 in c:\\users\\prasannan-robots\\desktop\\mentor\\mentor-server\\devenv\\lib\\site-packages (from llama-index-core<0.11.0,>=0.10.1->llama-index-readers-youtube-transcript) (3.2.1)\n",
      "Requirement already satisfied: nltk<4.0.0,>=3.8.1 in c:\\users\\prasannan-robots\\desktop\\mentor\\mentor-server\\devenv\\lib\\site-packages (from llama-index-core<0.11.0,>=0.10.1->llama-index-readers-youtube-transcript) (3.8.1)\n",
      "Requirement already satisfied: numpy in c:\\users\\prasannan-robots\\desktop\\mentor\\mentor-server\\devenv\\lib\\site-packages (from llama-index-core<0.11.0,>=0.10.1->llama-index-readers-youtube-transcript) (1.26.4)\n",
      "Requirement already satisfied: openai>=1.1.0 in c:\\users\\prasannan-robots\\desktop\\mentor\\mentor-server\\devenv\\lib\\site-packages (from llama-index-core<0.11.0,>=0.10.1->llama-index-readers-youtube-transcript) (1.8.0)\n",
      "Requirement already satisfied: pandas in c:\\users\\prasannan-robots\\desktop\\mentor\\mentor-server\\devenv\\lib\\site-packages (from llama-index-core<0.11.0,>=0.10.1->llama-index-readers-youtube-transcript) (2.2.1)\n",
      "Requirement already satisfied: pillow>=9.0.0 in c:\\users\\prasannan-robots\\desktop\\mentor\\mentor-server\\devenv\\lib\\site-packages (from llama-index-core<0.11.0,>=0.10.1->llama-index-readers-youtube-transcript) (10.2.0)\n",
      "Requirement already satisfied: requests>=2.31.0 in c:\\users\\prasannan-robots\\desktop\\mentor\\mentor-server\\devenv\\lib\\site-packages (from llama-index-core<0.11.0,>=0.10.1->llama-index-readers-youtube-transcript) (2.31.0)\n",
      "Requirement already satisfied: tenacity<9.0.0,>=8.2.0 in c:\\users\\prasannan-robots\\desktop\\mentor\\mentor-server\\devenv\\lib\\site-packages (from llama-index-core<0.11.0,>=0.10.1->llama-index-readers-youtube-transcript) (8.2.3)\n",
      "Requirement already satisfied: tiktoken>=0.3.3 in c:\\users\\prasannan-robots\\desktop\\mentor\\mentor-server\\devenv\\lib\\site-packages (from llama-index-core<0.11.0,>=0.10.1->llama-index-readers-youtube-transcript) (0.6.0)\n",
      "Requirement already satisfied: tqdm<5.0.0,>=4.66.1 in c:\\users\\prasannan-robots\\desktop\\mentor\\mentor-server\\devenv\\lib\\site-packages (from llama-index-core<0.11.0,>=0.10.1->llama-index-readers-youtube-transcript) (4.66.1)\n",
      "Requirement already satisfied: typing-extensions>=4.5.0 in c:\\users\\prasannan-robots\\desktop\\mentor\\mentor-server\\devenv\\lib\\site-packages (from llama-index-core<0.11.0,>=0.10.1->llama-index-readers-youtube-transcript) (4.9.0)\n",
      "Requirement already satisfied: typing-inspect>=0.8.0 in c:\\users\\prasannan-robots\\desktop\\mentor\\mentor-server\\devenv\\lib\\site-packages (from llama-index-core<0.11.0,>=0.10.1->llama-index-readers-youtube-transcript) (0.9.0)\n",
      "Requirement already satisfied: aiosignal>=1.1.2 in c:\\users\\prasannan-robots\\desktop\\mentor\\mentor-server\\devenv\\lib\\site-packages (from aiohttp<4.0.0,>=3.8.6->llama-index-core<0.11.0,>=0.10.1->llama-index-readers-youtube-transcript) (1.3.1)\n",
      "Requirement already satisfied: attrs>=17.3.0 in c:\\users\\prasannan-robots\\desktop\\mentor\\mentor-server\\devenv\\lib\\site-packages (from aiohttp<4.0.0,>=3.8.6->llama-index-core<0.11.0,>=0.10.1->llama-index-readers-youtube-transcript) (23.2.0)\n",
      "Requirement already satisfied: frozenlist>=1.1.1 in c:\\users\\prasannan-robots\\desktop\\mentor\\mentor-server\\devenv\\lib\\site-packages (from aiohttp<4.0.0,>=3.8.6->llama-index-core<0.11.0,>=0.10.1->llama-index-readers-youtube-transcript) (1.4.1)\n",
      "Requirement already satisfied: multidict<7.0,>=4.5 in c:\\users\\prasannan-robots\\desktop\\mentor\\mentor-server\\devenv\\lib\\site-packages (from aiohttp<4.0.0,>=3.8.6->llama-index-core<0.11.0,>=0.10.1->llama-index-readers-youtube-transcript) (6.0.5)\n",
      "Requirement already satisfied: yarl<2.0,>=1.0 in c:\\users\\prasannan-robots\\desktop\\mentor\\mentor-server\\devenv\\lib\\site-packages (from aiohttp<4.0.0,>=3.8.6->llama-index-core<0.11.0,>=0.10.1->llama-index-readers-youtube-transcript) (1.9.4)\n",
      "Requirement already satisfied: wrapt<2,>=1.10 in c:\\users\\prasannan-robots\\desktop\\mentor\\mentor-server\\devenv\\lib\\site-packages (from deprecated>=1.2.9.3->llama-index-core<0.11.0,>=0.10.1->llama-index-readers-youtube-transcript) (1.16.0)\n",
      "Requirement already satisfied: pydantic>=1.10 in c:\\users\\prasannan-robots\\desktop\\mentor\\mentor-server\\devenv\\lib\\site-packages (from llamaindex-py-client<0.2.0,>=0.1.13->llama-index-core<0.11.0,>=0.10.1->llama-index-readers-youtube-transcript) (2.5.3)\n",
      "Requirement already satisfied: anyio in c:\\users\\prasannan-robots\\desktop\\mentor\\mentor-server\\devenv\\lib\\site-packages (from httpx->llama-index-core<0.11.0,>=0.10.1->llama-index-readers-youtube-transcript) (4.2.0)\n",
      "Requirement already satisfied: certifi in c:\\users\\prasannan-robots\\desktop\\mentor\\mentor-server\\devenv\\lib\\site-packages (from httpx->llama-index-core<0.11.0,>=0.10.1->llama-index-readers-youtube-transcript) (2023.11.17)\n",
      "Requirement already satisfied: httpcore==1.* in c:\\users\\prasannan-robots\\desktop\\mentor\\mentor-server\\devenv\\lib\\site-packages (from httpx->llama-index-core<0.11.0,>=0.10.1->llama-index-readers-youtube-transcript) (1.0.2)\n",
      "Requirement already satisfied: idna in c:\\users\\prasannan-robots\\desktop\\mentor\\mentor-server\\devenv\\lib\\site-packages (from httpx->llama-index-core<0.11.0,>=0.10.1->llama-index-readers-youtube-transcript) (3.6)\n",
      "Requirement already satisfied: sniffio in c:\\users\\prasannan-robots\\desktop\\mentor\\mentor-server\\devenv\\lib\\site-packages (from httpx->llama-index-core<0.11.0,>=0.10.1->llama-index-readers-youtube-transcript) (1.3.0)\n",
      "Requirement already satisfied: h11<0.15,>=0.13 in c:\\users\\prasannan-robots\\desktop\\mentor\\mentor-server\\devenv\\lib\\site-packages (from httpcore==1.*->httpx->llama-index-core<0.11.0,>=0.10.1->llama-index-readers-youtube-transcript) (0.14.0)\n",
      "Requirement already satisfied: click in c:\\users\\prasannan-robots\\desktop\\mentor\\mentor-server\\devenv\\lib\\site-packages (from nltk<4.0.0,>=3.8.1->llama-index-core<0.11.0,>=0.10.1->llama-index-readers-youtube-transcript) (8.1.7)\n",
      "Requirement already satisfied: joblib in c:\\users\\prasannan-robots\\desktop\\mentor\\mentor-server\\devenv\\lib\\site-packages (from nltk<4.0.0,>=3.8.1->llama-index-core<0.11.0,>=0.10.1->llama-index-readers-youtube-transcript) (1.3.2)\n",
      "Requirement already satisfied: regex>=2021.8.3 in c:\\users\\prasannan-robots\\desktop\\mentor\\mentor-server\\devenv\\lib\\site-packages (from nltk<4.0.0,>=3.8.1->llama-index-core<0.11.0,>=0.10.1->llama-index-readers-youtube-transcript) (2023.12.25)\n",
      "Requirement already satisfied: distro<2,>=1.7.0 in c:\\users\\prasannan-robots\\desktop\\mentor\\mentor-server\\devenv\\lib\\site-packages (from openai>=1.1.0->llama-index-core<0.11.0,>=0.10.1->llama-index-readers-youtube-transcript) (1.9.0)\n",
      "Requirement already satisfied: charset-normalizer<4,>=2 in c:\\users\\prasannan-robots\\desktop\\mentor\\mentor-server\\devenv\\lib\\site-packages (from requests>=2.31.0->llama-index-core<0.11.0,>=0.10.1->llama-index-readers-youtube-transcript) (3.3.2)\n",
      "Requirement already satisfied: urllib3<3,>=1.21.1 in c:\\users\\prasannan-robots\\desktop\\mentor\\mentor-server\\devenv\\lib\\site-packages (from requests>=2.31.0->llama-index-core<0.11.0,>=0.10.1->llama-index-readers-youtube-transcript) (2.1.0)\n",
      "Requirement already satisfied: greenlet!=0.4.17 in c:\\users\\prasannan-robots\\desktop\\mentor\\mentor-server\\devenv\\lib\\site-packages (from SQLAlchemy>=1.4.49->SQLAlchemy[asyncio]>=1.4.49->llama-index-core<0.11.0,>=0.10.1->llama-index-readers-youtube-transcript) (3.0.3)\n",
      "Requirement already satisfied: colorama in c:\\users\\prasannan-robots\\desktop\\mentor\\mentor-server\\devenv\\lib\\site-packages (from tqdm<5.0.0,>=4.66.1->llama-index-core<0.11.0,>=0.10.1->llama-index-readers-youtube-transcript) (0.4.6)\n",
      "Requirement already satisfied: mypy-extensions>=0.3.0 in c:\\users\\prasannan-robots\\desktop\\mentor\\mentor-server\\devenv\\lib\\site-packages (from typing-inspect>=0.8.0->llama-index-core<0.11.0,>=0.10.1->llama-index-readers-youtube-transcript) (1.0.0)\n",
      "Requirement already satisfied: marshmallow<4.0.0,>=3.18.0 in c:\\users\\prasannan-robots\\desktop\\mentor\\mentor-server\\devenv\\lib\\site-packages (from dataclasses-json->llama-index-core<0.11.0,>=0.10.1->llama-index-readers-youtube-transcript) (3.20.2)\n",
      "Requirement already satisfied: python-dateutil>=2.8.2 in c:\\users\\prasannan-robots\\desktop\\mentor\\mentor-server\\devenv\\lib\\site-packages (from pandas->llama-index-core<0.11.0,>=0.10.1->llama-index-readers-youtube-transcript) (2.8.2)\n",
      "Requirement already satisfied: pytz>=2020.1 in c:\\users\\prasannan-robots\\desktop\\mentor\\mentor-server\\devenv\\lib\\site-packages (from pandas->llama-index-core<0.11.0,>=0.10.1->llama-index-readers-youtube-transcript) (2023.3.post1)\n",
      "Requirement already satisfied: tzdata>=2022.7 in c:\\users\\prasannan-robots\\desktop\\mentor\\mentor-server\\devenv\\lib\\site-packages (from pandas->llama-index-core<0.11.0,>=0.10.1->llama-index-readers-youtube-transcript) (2024.1)\n",
      "Requirement already satisfied: packaging>=17.0 in c:\\users\\prasannan-robots\\desktop\\mentor\\mentor-server\\devenv\\lib\\site-packages (from marshmallow<4.0.0,>=3.18.0->dataclasses-json->llama-index-core<0.11.0,>=0.10.1->llama-index-readers-youtube-transcript) (23.2)\n",
      "Requirement already satisfied: annotated-types>=0.4.0 in c:\\users\\prasannan-robots\\desktop\\mentor\\mentor-server\\devenv\\lib\\site-packages (from pydantic>=1.10->llamaindex-py-client<0.2.0,>=0.1.13->llama-index-core<0.11.0,>=0.10.1->llama-index-readers-youtube-transcript) (0.6.0)\n",
      "Requirement already satisfied: pydantic-core==2.14.6 in c:\\users\\prasannan-robots\\desktop\\mentor\\mentor-server\\devenv\\lib\\site-packages (from pydantic>=1.10->llamaindex-py-client<0.2.0,>=0.1.13->llama-index-core<0.11.0,>=0.10.1->llama-index-readers-youtube-transcript) (2.14.6)\n",
      "Requirement already satisfied: six>=1.5 in c:\\users\\prasannan-robots\\desktop\\mentor\\mentor-server\\devenv\\lib\\site-packages (from python-dateutil>=2.8.2->pandas->llama-index-core<0.11.0,>=0.10.1->llama-index-readers-youtube-transcript) (1.16.0)\n",
      "Using cached llama_index_readers_youtube_transcript-0.1.4-py3-none-any.whl (3.7 kB)\n",
      "Installing collected packages: llama-index-readers-youtube-transcript\n",
      "Successfully installed llama-index-readers-youtube-transcript-0.1.4\n"
     ]
    },
    {
     "name": "stderr",
     "output_type": "stream",
     "text": [
      "WARNING: Retrying (Retry(total=4, connect=None, read=None, redirect=None, status=None)) after connection broken by 'ConnectTimeoutError(<pip._vendor.urllib3.connection.HTTPSConnection object at 0x0000029297295ED0>, 'Connection to pypi.org timed out. (connect timeout=15)')': /simple/llama-index-readers-youtube-transcript/\n"
     ]
    }
   ],
   "source": [
    "pip install llama-index-readers-youtube-transcript"
   ]
  },
  {
   "cell_type": "code",
   "execution_count": 1,
   "metadata": {},
   "outputs": [
    {
     "name": "stderr",
     "output_type": "stream",
     "text": [
      "c:\\Users\\prasannan-robots\\Desktop\\Mentor\\Mentor-Server\\devenv\\Lib\\site-packages\\tqdm\\auto.py:21: TqdmWarning: IProgress not found. Please update jupyter and ipywidgets. See https://ipywidgets.readthedocs.io/en/stable/user_install.html\n",
      "  from .autonotebook import tqdm as notebook_tqdm\n"
     ]
    },
    {
     "name": "stdout",
     "output_type": "stream",
     "text": [
      "{'Kids Exercise - Kids Workout At Home': ['8uUawnM-FD8', 'This short and easy workout is suitable for kids who need to exercise at home or in the gym. This workout improves their flexibility, ...'], 'What Happens To Your Body When You Start Exercising Regularly | The Human Body': ['rBUjOY12gJA', \"Leading a more active lifestyle takes time, effort, and determination, but in the end, it's really worth the shot. Here's what will ...\"], '15-minute Workout for Older Adults': ['Ev6yE55kYGw', 'This 15-minute exercise video for older adults features a warm-up, strength, flexibility, and balance exercises; and a cool down.']}\n",
      "Kids Exercise - Kids Workout At Home The video consists of a workout routine that includes warm-up exercises, side bends, back turns, knee hugs, arm circles, squats, jumping jacks, running in place, ski hops, heel touches, knee tuck crunches, and more. The routine involves counting down from five to start each exercise and includes rest times in between. The video ends with a congratulatory message for completing the workout.\n",
      "What Happens To Your Body When You Start Exercising Regularly | The Human Body The video discusses the benefits and changes one can expect when leading a more active lifestyle through sports, fitness, and recreation. It covers the initial effects of exercise on alertness and muscle soreness, the long-term improvements in endurance, muscle strength, bone density, and overall health. Regular exercise is shown to have positive impacts on physical and mental well-being, reducing the risk of various health conditions and potentially leading to a longer, more fulfilling life. The importance of a balanced diet and following recommended exercise guidelines for different age groups is also highlighted.\n",
      "15-minute Workout for Older Adults The video features a workout session led by Sandy Magrath as part of the Go4Life exercise campaign. The workout includes a warm-up, strength and balance exercises using equipment like dumbbells and a chair, focusing on various muscle groups. The session progresses through exercises like arm curls, overhead arm raises, chair dips, chair stands, side leg raises, back leg raises, and grip exercises with tennis balls and a towel. The workout concludes with stretching exercises for the shoulders, triceps, and ankles. Throughout the session, Sandy emphasizes proper form, breathing, and listening to one's body.\n"
     ]
    },
    {
     "data": {
      "text/plain": [
       "<ContextVar name='Videos' default={'Kids Exercise - Kids Workout At Home': ['8uUawnM-FD8', 'This short and easy workout is suitable for kids who need to exercise at home or in the gym. This workout improves their flexibility, ...', Response(response='The video consists of a workout routine that includes warm-up exercises, side bends, back turns, knee hugs, arm circles, squats, jumping jacks, running in place, ski hops, heel touches, knee tuck crunches, and more. The routine involves counting down from five to start each exercise and includes rest times in between. The video ends with a congratulatory message for completing the workout.', source_nodes=[NodeWithScore(node=TextNode(id_='6382334f-7d79-4ca0-a52a-f1cac7fc2b46', embedding=None, metadata={'video_id': '8uUawnM-FD8'}, excluded_embed_metadata_keys=[], excluded_llm_metadata_keys=[], relationships={<NodeRelationship.SOURCE: '1'>: RelatedNodeInfo(node_id='8uUawnM-FD8', node_type=<ObjectType.DOCUMENT: '4'>, metadata={'video_id': '8uUawnM-FD8'}, hash='ccfe38808f4c19ee87f13d477ecc3dcb6fbbfbe20ae6d4e0e6158254501d149b')}, text=\"warm up\\nup next\\nside bends\\nin five four\\nthree\\ntwo\\none go\\none\\ntwo\\n3\\n[Music]\\n4\\n5\\n6\\n7\\n[Music]\\n8\\n9\\n10\\n11\\n12.\\nup next\\nback turns\\nin 5\\n4\\n3\\n2\\n1 go\\none\\ntwo\\nthree\\nfour\\nfive\\nsix\\nseven\\neight\\nnine\\nten\\neleven\\ntwelve\\nup next\\nknee hugs in five\\nfour\\nthree\\ntwo\\none go\\none\\ntwo\\nthree\\nfour\\nfive\\nsix\\nseven\\neight\\n[Music]\\nnine\\nten\\neleven\\ntwelve\\nup next arm circles\\nin five\\nfour\\nthree\\ntwo\\none\\ngo\\none two\\nthree\\nfour\\nfive\\nsix\\nseven\\neight\\nnine\\nten\\neleven\\ntwelve let's begin the workout oh up\\nnext\\nsquats\\nin five\\nfour\\nthree\\ntwo\\none go\\none\\ntwo\\nthree\\nfour\\nfive\\nsix\\nseven\\neight\\n[Music]\\nnine 10\\n11\\n12\\nrest time\\n[Music]\\nup next\\njumping jacks\\nin five\\nfour\\nthree two\\none go\\none\\ntwo\\nthree\\nfour\\nfive\\nsix\\nseven\\neight\\nnine\\nten\\n1\\n2\\n3\\n4\\n5\\n6\\n7\\n8\\n9\\n20\\n1\\n2\\n3\\n4\\n5 6\\n7\\n8\\n9\\n30\\nrest time\\nup next\\nrunning in place\\nin five\\nfour\\nthree\\ntwo\\none go\\n[Music]\\ntwo\\nfour\\nsix\\neight\\n10\\n12\\n14\\n16\\n18\\n20\\n22\\n24\\n26\\n28\\n30\\n32\\n34\\n36\\n38\\n40 rest time\\n[Music]\\nup next\\nknee hugs\\nin five\\nfour\\nthree\\ntwo\\none go\\none\\ntwo\\nthree\\nfour\\nfive\\nsix\\nseven\\neight\\n[Applause]\\nnine\\n[Music]\\nten 11\\n12\\nrest time\\n[Applause]\\n[Music]\\n[Applause]\\n[Music]\\n[Applause]\\nup next\\nski hops\\nin five\\nfour\\nthree\\ntwo\\none go\\none\\ntwo\\nthree\\nfour\\nfive\\nsix\\nseven\\neight\\nnine 10\\n11\\n12\\n13\\n14\\nrest time\\n[Music]\\nup next heel touches\\nin five\\nfour\\nthree\\ntwo\\none\\ngo\\none\\ntwo\\nthree\\nfour\\nfive\\n6\\n7\\n8\\n9\\n10\\n11\\n12\\nrough time\\n[Music]\\nup next\\nknee tuck crunches\\nin five\\nfour\\nthree\\ntwo\\none go\\none\\ntwo\\nthree\\nfour\\nfive\\nsix\\n[Applause]\\nseven\\neight\\nnine\\n[Music]\\n10\\n11\\n12\\nrest time\\n[Music]\\nup next\\narm circles\\nin five\\nfour\\nthree\\ntwo\\none go\\none\\ntwo\\nthree\\nfour\\n5\\n6\\n7\\n8\\n9\\n10\\n11\\n12\\n13\\n14\\n15 rest time\\n[Music]\\n[Applause]\\n[Music]\\n[Music]\\nup next\\nsquat\\nin five\\nfour\\nthree\\ntwo\\none\\ngo\\none\\ntwo\\nthree\\nfour\\nfive\\nsix\\n[Music]\\nrest time\\n[Music]\\nbring the beat back\\n[Music]\\n[Music]\\nup next\\njumping jacks\\nin five\\nfour\\nthree\\ntwo\\none go\\none\\ntwo\\nthree\\nfour\\nfive\\nsix\\nseven\\neight\\nnine\\nten\\none\\ntwo\\nthree\\nfour\\nfive\\nsix\\nseven\\neight\\n9\\n20\\n1\\n2\\n3\\n4\\n5\\n6\\n7\\n8\\n9\\n30\\nrough time\\n[Music]\\n[Music]\\nup next\\nrunning in place\\nin five\\nfour\\nthree\\ntwo\\none\\ngo 2\\n4\\n6\\n8\\n10\\n12\\n14\\n16\\n18\\n20\\n22\\n24\\n26\\n28\\n30\\n32\\n34\\n36\\n38\\n40 you have successfully completed the\\nworkout good job\", start_char_idx=0, end_char_idx=2086, text_template='{metadata_str}\\n\\n{content}', metadata_template='{key}: {value}', metadata_seperator='\\n'), score=None)], metadata={'6382334f-7d79-4ca0-a52a-f1cac7fc2b46': {'video_id': '8uUawnM-FD8'}})], 'What Happens To Your Body When You Start Exercising Regularly | The Human Body': ['rBUjOY12gJA', \"Leading a more active lifestyle takes time, effort, and determination, but in the end, it's really worth the shot. Here's what will ...\", Response(response='The video discusses the benefits and changes one can expect when leading a more active lifestyle through sports, fitness, and recreation. It covers the initial effects of exercise on alertness and muscle soreness, the long-term improvements in endurance, muscle strength, bone density, and overall health. Regular exercise is shown to have positive impacts on physical and mental well-being, reducing the risk of various health conditions and potentially leading to a longer, more fulfilling life. The importance of a balanced diet and following recommended exercise guidelines for different age groups is also highlighted.', source_nodes=[NodeWithScore(node=TextNode(id_='7e410f6f-f544-4a65-b0fa-c9e91ab800f0', embedding=None, metadata={'video_id': 'rBUjOY12gJA'}, excluded_embed_metadata_keys=[], excluded_llm_metadata_keys=[], relationships={<NodeRelationship.SOURCE: '1'>: RelatedNodeInfo(node_id='rBUjOY12gJA', node_type=<ObjectType.DOCUMENT: '4'>, metadata={'video_id': 'rBUjOY12gJA'}, hash='793e72249aee7e274a035dde85b7d2002110b616e7b46c38efe3ef7df84616ab')}, text=\"if you're thinking about leading a more\\nactive lifestyle you're not alone in\\nrecent years an increasing number of\\nAmericans have started participating in\\nmore sports fitness and recreation\\nwhether you're trying to get fit build\\nmuscle or you're just tired of the couch\\nhere are some changes you can expect\\nalong the way during that first workout\\nyou might feel more alert and energized\\nbecause ramping up your heart rate means\\na boost in overall blood flow and oxygen\\nto the brain but prepare yourself for\\nthe day after when you'll almost\\ncertainly get a case of Dom's short for\\ndelayed onset muscle soreness the\\nsoreness will persist for about 72 hours\\nbut the good news is you're less likely\\nto get it again as long as you continue\\nto regularly exercise those same muscles\\nover the next few weeks you'll slowly\\nstart to ramp up production of\\nmitochondria via a process called\\nmitochondrial biogenesis mitochondria\\nare the parts of your cells that convert\\ncarbs fat and protein and to feel that\\nyour muscles use to do their job like\\nflexing contract after six to eight\\nweeks studies have shown that people can\\nincrease their mitochondria by up to 50%\\nwith more mitochondria in your cells\\nyou'll start to feel more fit and your\\nendurance will increase so running three\\nmiles will no longer feel as difficult\\nas it did during the first week once\\nyour six months in all of that hard work\\nshould finally start to show if your\\nworkouts focus on strength training\\nyou'll notice your muscles begin to take\\nshape you're also less likely to fall\\noff the workout wagon at this point\\nexercise programs often see a 50%\\ndropout rate within the first six months\\nbut after that more people stick with it\\nnow if you're more focused on cardio\\nthan by nine months of regular exercise\\nyou should see about a 25% increase in\\nyour vo2 max vo2 max is often used as a\\nmeasure of fitness and refers to the\\nrate your body can transport oxygen to\\nyour muscles for fuel basically higher\\nvo2 max means you can run faster for\\nlonger so a 25% increase means you can\\nrun about 20% further in the same amount\\nof time after one year of regular\\nexercise your bones will be denser which\\nreduces your\\nof osteoporosis in fact researchers have\\nfound that regular resistance training\\nwhen combined with aerobic exercise can\\nactually reverse the effects of\\nosteoporosis after 12 months now if you\\nmaintain your exercise program long term\\nyour body might not be the only thing to\\nbenefit your bank account may also be\\n one study revealed that older\\npeople who exercise 5 days a week for at\\nleast 30 minutes saved on average $2,500\\na year in medical costs for heart\\nrelated health problems alone you'll\\nalso be at a lower risk of developing\\narthritis type-2 diabetes dementia and\\ncertain types of cancer like breast and\\ncolon in all probability you are going\\nto live longer than you otherwise would\\nand that longer life it will likely feel\\nmore fulfilling because exercise lowers\\nthe risk of anxiety and depression by\\nreducing levels of stress hormones like\\ncortisol and adrenaline of course all of\\nthese benefits depend on the type and\\nintensity of your workout and how long\\nyou exercise for each week a balanced\\ndiet is also paramount to a healthy\\nlifestyle for the average adult ages 18\\nto 64 the US Department of Health and\\nHuman Services recommends either a\\nminimum of two and a half hours per week\\nof moderately intense exercise like\\nbrisk walking or biking or at least one\\nhour and 15 minutes each week that\\ncombines moderate and high intensity\\nworkouts like running and swimming\\nsprints on top of that make sure and\\ntake two days each week to strengthen\\nyour muscles with some weights or\\nresistance training this will help your\\noverall speed and endurance as you begin\\nit's important to pace yourself and not\\npush too hard too fast or you risk\\nserious injury you'll discover that the\\nfitter you become the easier it will be\\nto exert a little more energy the next\\nweek the week after and so forth\\nexercise smart and often and you'll be\\nrunning marathons in no time\\nyou\", start_char_idx=0, end_char_idx=4034, text_template='{metadata_str}\\n\\n{content}', metadata_template='{key}: {value}', metadata_seperator='\\n'), score=None)], metadata={'7e410f6f-f544-4a65-b0fa-c9e91ab800f0': {'video_id': 'rBUjOY12gJA'}})], '15-minute Workout for Older Adults': ['Ev6yE55kYGw', 'This 15-minute exercise video for older adults features a warm-up, strength, flexibility, and balance exercises; and a cool down.', Response(response=\"The video features a workout session led by Sandy Magrath as part of the Go4Life exercise campaign. The workout includes a warm-up, strength and balance exercises using equipment like dumbbells and a chair, focusing on various muscle groups. The session progresses through exercises like arm curls, overhead arm raises, chair dips, chair stands, side leg raises, back leg raises, and grip exercises with tennis balls and a towel. The workout concludes with stretching exercises for the shoulders, triceps, and ankles. Throughout the session, Sandy emphasizes proper form, breathing, and listening to one's body.\", source_nodes=[NodeWithScore(node=TextNode(id_='303f4b2d-e77f-4799-88a5-bb2802b884e1', embedding=None, metadata={'video_id': 'Ev6yE55kYGw'}, excluded_embed_metadata_keys=[], excluded_llm_metadata_keys=[], relationships={<NodeRelationship.SOURCE: '1'>: RelatedNodeInfo(node_id='Ev6yE55kYGw', node_type=<ObjectType.DOCUMENT: '4'>, metadata={'video_id': 'Ev6yE55kYGw'}, hash='8eca84d59cd6796b148b17cd26170a6f0171e0e5d92f828e44d7c46f01a22b84'), <NodeRelationship.NEXT: '3'>: RelatedNodeInfo(node_id='2bfcf94b-605d-428c-8417-13a3627bf3a4', node_type=<ObjectType.TEXT: '1'>, metadata={}, hash='fa726a01cb899292e0a426233985af853d90ebf7da67ac24f4e7547b85b4d216')}, text=\"MS. SANDY MAGRATH: Hi! Welcome to Go4Life, an exercise campaign\\nfrom the National Institute on Aging at NIH.\\nMy name is Sandy Magrath.\\nI'm a personal trainer and fitness instructor.\\nWe're going to do a sample workout so\\nyou'll be able to watch me and follow along,\\nwith Mitter, Irene,  Grisel and Jerry.\\nFor equipment you'll need a sturdy chair with arms.\\nTwo equally weighted objects like dumbbells, soup cans, or water bottles.\\nTwo tennis balls, and a towel.\\nI'll be teaching at a more challenging level\\nwith Irene and Mitter. While Grisel and Jerry\\nwill do modified versions of the same exercises.\\nAlways listen to your body.\\nWe're going to start with our warm-up.\\nEvery time you exercise you should\\nalways warm up before you start doing strength exercises.\\nHow's everybody feeling?\\nGROUP: Great!\\nMS SANDY MAGRATH: You guys ready to go?\\nGROUP: Yeah.\\nMS. SANDY MAGRATH: Let's start with our warm-up here we go.\\nSo we're going to start with a march and so what\\nwe're doing is we're warming up the\\nmuscles and getting the blood flowing,\\nraising the heart rate just a little bit.\\nGood so you want to start out slow and\\nthen you can just pick it up as you want to.\\nSo we're gonna march for 4, 3, 2 more, and\\nget ready we're going to get right to a step touch right now.\\nHere we go- step, touch.\\nNow when you're doing your warmup if you\\ndon't do it exactly like I do\\nthat's okay because all we're doing is\\nwarming up those muscles. So you want to\\nhave good posture, abs in, shoulders back\\nand head up.\\nWe're going to do 4 more, guys,\\nand 3,\\nlast 2,\\nWe're going to take it back to a march.\\nSo march it right here.\\nMarch it out\\nand we're going to do\\n4, 3, 2 hold it right there.\\nFeet are steady,\\nyour feet should be shoulder distance apart.\\nTake the arms up\\nloosening up the shoulders now.\\nSo take it up, and down, take it up, and down.\\nCan you guys feel that everything starting to\\nloosen up a little bit?\\nGROUP: Yeah.\\nMS SANDY MAGRATH: Here we go, let's do 5 more, and 4, last 3,\\n2 more, and 1.\\nNow what I want you to do is I want you to reach back.\\nMake sure your chair is behind you and you're going to have a seat.\\nNow what we're going to do is we're\\ngoing to warm up the quads now.\\nSo your're going to have your arms out and just stand it up,\\nand take it down, and stand it up,\\nand take it down, stand it up.\\nHow you guys doing back there?\\nGROUP: Good!\\nMS SANDY MAGRATH: Okay. Now you should feel your legs starting to warm up.\\nAnd let's just do 4 more.\\nWhat you do in your warm up- a lot of times\\nyou'll do exercises or your warm-up will\\nresemble the exercises that your're going to do later.\\nSo you're warming up those muscles.\\nHere we go this is the last one.\\nTake it down keep that seated position,\\ntake your hands put it right on the sides of the chairs.\\nTake your legs out they\\nshould be shoulder width apart.\\nSo go ahead, Grisel. Take the feet just\\na little bit wider, a little bit wider there you go.\\nNow we're going to point the toes.\\nThis is warming up your calves and your ankles\\nSo stretch, and flex, stretch and flex,\\nstretch, and flex. Let's do 3 more, and 2,\\nand last 1.\\nMITTER: You can feel your calf you know?\\nMS. SANDY MAGRATH: Yeah, good job that's great.\\nNow does everybody feel pretty warm?\\nMITTER: Yeah.\\nMS. SANDY MAGRATH: Okay, now if you need a little bit more time to warm up,\\nyou can always take a couple extra minutes.\\nBut we're going to go ahead and\\nstart our strength and balance exercises.\\nThe first thing we're going to do is arm curls\\nand we're going to 10 of them.\\nGrisel and Jerry are going to be our modifiers\\nand what they're going to do is they're\\ngoing to stay in a seated position.\\nThe rest of you\\nwe're gonna grab our weights and we're\\ngoing to turn around. Now you want your\\nfeet to be shoulder distance apart.\", start_char_idx=0, end_char_idx=3752, text_template='{metadata_str}\\n\\n{content}', metadata_template='{key}: {value}', metadata_seperator='\\n'), score=None), NodeWithScore(node=TextNode(id_='2bfcf94b-605d-428c-8417-13a3627bf3a4', embedding=None, metadata={'video_id': 'Ev6yE55kYGw'}, excluded_embed_metadata_keys=[], excluded_llm_metadata_keys=[], relationships={<NodeRelationship.SOURCE: '1'>: RelatedNodeInfo(node_id='Ev6yE55kYGw', node_type=<ObjectType.DOCUMENT: '4'>, metadata={'video_id': 'Ev6yE55kYGw'}, hash='8eca84d59cd6796b148b17cd26170a6f0171e0e5d92f828e44d7c46f01a22b84'), <NodeRelationship.PREVIOUS: '2'>: RelatedNodeInfo(node_id='303f4b2d-e77f-4799-88a5-bb2802b884e1', node_type=<ObjectType.TEXT: '1'>, metadata={'video_id': 'Ev6yE55kYGw'}, hash='326c17ba812cc5e0ee65c070ab7006770fb816e512dd05e6b20d55bee253e433'), <NodeRelationship.NEXT: '3'>: RelatedNodeInfo(node_id='f8f1e60a-80e2-405e-81b4-7ad1eb2e8d12', node_type=<ObjectType.TEXT: '1'>, metadata={}, hash='39f83f40946813a224e2d20c442849e438294a1435777423a9cfffcbfa4320a8')}, text=\"Let's do 3 more, and 2,\\nand last 1.\\nMITTER: You can feel your calf you know?\\nMS. SANDY MAGRATH: Yeah, good job that's great.\\nNow does everybody feel pretty warm?\\nMITTER: Yeah.\\nMS. SANDY MAGRATH: Okay, now if you need a little bit more time to warm up,\\nyou can always take a couple extra minutes.\\nBut we're going to go ahead and\\nstart our strength and balance exercises.\\nThe first thing we're going to do is arm curls\\nand we're going to 10 of them.\\nGrisel and Jerry are going to be our modifiers\\nand what they're going to do is they're\\ngoing to stay in a seated position.\\nThe rest of you\\nwe're gonna grab our weights and we're\\ngoing to turn around. Now you want your\\nfeet to be shoulder distance apart. Pull\\nthose are your feet to be shoulder to\\nsupport pull your shoulders back, abs in,\\nhead is up.\\nElbows should be tight to the side\\nand take it up for an arm curl.\\nWe're going to do 10 of these.\\nHere we go and 2, 3. Now, if you feel\\nit getting a little bit hard you want to be sure that\\nyou continue to breathe.\\nAnd you want to breathe on the upward movement, the exertion.\\nWe've got 2 more.\\nHow are you guys doing?\\nGROUP: Good.\\nMS. SANDY MAGRATH: Your form looks good. Now, if you ever want to practice,\\nand that's good.\\nNow shake out those shoulders just for a second.\\nThe next exercise is the overhead arm raise.\\nYou want to have your arms-\\nlet me just check everybody out.\\nYou want to have your arms in 90-degree angles or goal post position.\\nSo take it up, and you can use\\ndifferent things when you're doing this.\\nYou can use you know soup cans,\\nwater bottles,\\nI'm using dumbbells.\\nHere we go, we've got 4 more to go.\\nAnd 3, and if you ever get tired\\nyou can always stop,\\nand 1 more, here we go-\\ntake it up take it down. Once again- relax those shoulders.\\nThe next thing we're going to do is chair dips.\\nTake it down, put the weights down\\nand we're going to have a seat in the chair.\\nNow you want to have your hands\\non either arm of the chair\\nand what you're going to do is you're going to lift yourself up.\\nNow this is a difficult exercise so if even if you\\njust lift just ever so slightly, it's a good thing.\\nSo we're going to 10 of these and take it up.\\nSo we're working the backs of the arms, or the triceps.\\nOkay, I know you guys can feel these.\\nNow you want to make sure that the chair that\\nyou're using is not too wide.\\nYou want to make sure that it's about shoulder-width.\\nSo that way you're not going to put any\\nstress on your shoulders or your elbows.\\nWe've got 2 more of these, and last 1.\\nPerfect. Okay the next exercise is the\\nchair stand and now we did this in the\\nwarm-up but we're going to modify it\\njust ever so slightly. So, what I want to\\ndo is cross your arms.\\nYou guys good? Okay. Lean it back, take it up, arms are out.\\nStand it up.\\nSo once again when you lean back,\\nwe're adding a little bit of ab work-\\nso draw those abs in tight- and then when you're standing,\\nyou're working those legs.\\nCross, lean back, now breathe out on the exertion-\\nso that would be when you do it.\\nBreathe in now, so cross the arms,\\nlean back, and forward.\\nTake it up.\\nNow if you have any problems with your knees, you know,\\nthis is something that you might want to modify.\\nSo, you know, listen to your body.\\nThis is your workout and you want to\\nmake it so that you can do it\\ncomfortably and safely. So take it down.\\nHow you guys doing back there?\\nGROUP: Good!\\nMS SANDY MAGRATH: Okay, we've got 3 more.\\nNow you guys are breathing aren't you?\\nGROUP: Yes.\\nMS SANDY MAGRATH: Okay, now remember the exertion is the standing up part.\\nWe've got 1 more after this one.\\nIs everybody good?\\nLast 1, and take it down.\\nOkay, now we're going to move right into lower body.\\nThis was working the quads but we're\\ngoing to work on the lower body now.\", start_char_idx=3051, end_char_idx=6790, text_template='{metadata_str}\\n\\n{content}', metadata_template='{key}: {value}', metadata_seperator='\\n'), score=None), NodeWithScore(node=TextNode(id_='f8f1e60a-80e2-405e-81b4-7ad1eb2e8d12', embedding=None, metadata={'video_id': 'Ev6yE55kYGw'}, excluded_embed_metadata_keys=[], excluded_llm_metadata_keys=[], relationships={<NodeRelationship.SOURCE: '1'>: RelatedNodeInfo(node_id='Ev6yE55kYGw', node_type=<ObjectType.DOCUMENT: '4'>, metadata={'video_id': 'Ev6yE55kYGw'}, hash='8eca84d59cd6796b148b17cd26170a6f0171e0e5d92f828e44d7c46f01a22b84'), <NodeRelationship.PREVIOUS: '2'>: RelatedNodeInfo(node_id='2bfcf94b-605d-428c-8417-13a3627bf3a4', node_type=<ObjectType.TEXT: '1'>, metadata={'video_id': 'Ev6yE55kYGw'}, hash='2e0af8f25a9bcb7b1c903481a12010747405032810e2bc3a6561ed8ebcdc3ed3'), <NodeRelationship.NEXT: '3'>: RelatedNodeInfo(node_id='45475839-eb46-452f-9020-9708b8bebff9', node_type=<ObjectType.TEXT: '1'>, metadata={}, hash='77bae78ba56790c8b6a10557bf2c87d7c47b45bd92847756f1fb60d4e5a29c59')}, text='Breathe in now, so cross the arms,\\nlean back, and forward.\\nTake it up.\\nNow if you have any problems with your knees, you know,\\nthis is something that you might want to modify.\\nSo, you know, listen to your body.\\nThis is your workout and you want to\\nmake it so that you can do it\\ncomfortably and safely. So take it down.\\nHow you guys doing back there?\\nGROUP: Good!\\nMS SANDY MAGRATH: Okay, we\\'ve got 3 more.\\nNow you guys are breathing aren\\'t you?\\nGROUP: Yes.\\nMS SANDY MAGRATH: Okay, now remember the exertion is the standing up part.\\nWe\\'ve got 1 more after this one.\\nIs everybody good?\\nLast 1, and take it down.\\nOkay, now we\\'re going to move right into lower body.\\nThis was working the quads but we\\'re\\ngoing to work on the lower body now. So\\nwe\\'re going to side leg raises\\nand we\\'re going to do 10 side leg raises.\\nDraw the abs in tight, stand behind\\nyour chair. Now be sure at home to hold\\nonto the chair until you feel very comfortable.\\nSo you\\'re going to get that\\ngood posture position.\\nAbs in, shoulders back, head up, and take\\nthe leg out to the side.\\nNow you want to make sure that you keep your legs straight and the foot flexed.\\nThat way you\\'re going to get the most out of the exercise.\\nTake it out to the side.\\nWe\\'re working the hips or the abductors.\\nWe\\'ve got 3 more, last 2, and just 1 more.\\nNow shake it out or do little steps\\nand we\\'re going to move right over\\nto the other side. Here we go-\\nleft side, take it out.\\nRemember straight leg and good posture.\\nNow if you get tired, you can always push\\nthat pause button and come right back to us.\\nIf you need to get a drink of water,\\ndo it whenever you need to.\\nWe\\'ve got just 2 more,\\nand 1 more, perfect.\\nOnce again, little steps, shake out those hips.\\nNext exercise, back leg raise.\\nSo are we ready?\\nGROUP: Ready!\\nMS SANDY MAGRATH: Abs in, take that leg back.\\nOnce again,  legs should be straight.\\nGood posture, foot is flexed.\\nGood posture, foot is flexed.\\nHere we\\'re working the hamstrings, or the back of the leg,\\nand the glutes.\\nHere we go.\\nWe\\'ve got 3 more, and 2, and 1.\\nHere we go, shake it out.\\nWe\\'ve got the other side now. Here we go- take it back.\\nMITTER: You can feel the pressure.\\nMS. SANDY MAGRATH: Okay, now Mitter, what I\\'d like you to do-\\nyour\\'re starting to lean forward just a little bit\\nlike this, so keep that posture good.\\nWe\\'ve got 4 more, perfect.\\nNow posture is so important and just 1 more.\\nOkay, take it down.\\nLet\\'s go ahead. Good.\\nOkay, now last exercise- grip.\\nGrab the tennis balls. Once again- now this time\\nI want everybody to think about your\\nposture just because you\\'re seated\\ndoesn\\'t mean you should be like this, okay?\\nPull those shoulders back, sit up straight\\nand draw those abs in tight.\\nI always ask my clients \"When are you supposed to hold your abs in?\"\\nAnd they scratch their head and they\\'re thinking.\\nNow we\\'re going to 10 reps,\\n3 to 5 seconds. And then after they think about it for a little bit,\\nthey go \"Well, when am I supposed to hold my abs in?\"\\nI go, \"All the time!\"\\nSo, when you\\'re walking down the street,\\nkeep that posture good. And squeeze.\\nAnd draw those abs in tight,\\nkeep the shoulders back, keep your head up\\nLet\\'s do 4, release,\\n3, release,\\nlast 2,\\nsqueeze, squeeze, squeeze, hard, hard, hard,\\nrelease 1 more time.\\nWe\\'re gonna hold this for five seconds,\\n5, 4, 3, 2, and 1.\\nI want you to grab your towel from underneath your chair.\\nGo ahead and stand up.\\nWhat you\\'re gonna do is you\\'re going to take your towel,\\nput it in your right hand.\\nI\\'d like you throw it over your right shoulder, grabbing the back\\nof the bottom of the towel with your left hand.\\nAnd what I\\'d like you to do is keep the\\nelbow nice and tight to the side of your head and pull down.\\nNow you\\'re gonna hold each stretch-\\n15 to 30 seconds, so that\\'s a good amount of time.', start_char_idx=6055, end_char_idx=9816, text_template='{metadata_str}\\n\\n{content}', metadata_template='{key}: {value}', metadata_seperator='\\n'), score=None), NodeWithScore(node=TextNode(id_='45475839-eb46-452f-9020-9708b8bebff9', embedding=None, metadata={'video_id': 'Ev6yE55kYGw'}, excluded_embed_metadata_keys=[], excluded_llm_metadata_keys=[], relationships={<NodeRelationship.SOURCE: '1'>: RelatedNodeInfo(node_id='Ev6yE55kYGw', node_type=<ObjectType.DOCUMENT: '4'>, metadata={'video_id': 'Ev6yE55kYGw'}, hash='8eca84d59cd6796b148b17cd26170a6f0171e0e5d92f828e44d7c46f01a22b84'), <NodeRelationship.PREVIOUS: '2'>: RelatedNodeInfo(node_id='f8f1e60a-80e2-405e-81b4-7ad1eb2e8d12', node_type=<ObjectType.TEXT: '1'>, metadata={'video_id': 'Ev6yE55kYGw'}, hash='fe2a50e7e8e66cc96e4c18b1e215bd0d42bdd72294f48f210935d68dbbfd0661')}, text=\"And squeeze.\\nAnd draw those abs in tight,\\nkeep the shoulders back, keep your head up\\nLet's do 4, release,\\n3, release,\\nlast 2,\\nsqueeze, squeeze, squeeze, hard, hard, hard,\\nrelease 1 more time.\\nWe're gonna hold this for five seconds,\\n5, 4, 3, 2, and 1.\\nI want you to grab your towel from underneath your chair.\\nGo ahead and stand up.\\nWhat you're gonna do is you're going to take your towel,\\nput it in your right hand.\\nI'd like you throw it over your right shoulder, grabbing the back\\nof the bottom of the towel with your left hand.\\nAnd what I'd like you to do is keep the\\nelbow nice and tight to the side of your head and pull down.\\nNow you're gonna hold each stretch-\\n15 to 30 seconds, so that's a good amount of time.\\nDon't cheat on it, okay?\\nGROUP:[LAUGHTER]\\nMS SANDY MAGRATH: It's so easy everybody, everybody finishes their\\nworkouts and then they just walk away.\\nBut stretching and flexibility is so, so, so important.\\nSo what I'd like you to do-\\nonce again pull down and relax it just one more time.\\nLet's do it one more time.\\nNow this time going to hold it for that 15 seconds.\\nSo hold, you at home, too.\\nKeep the elbows tight to the side of your head.\\nThat way you're really stretching out those\\nthe shoulder, the triceps, and--\\nlet's go ahead and switch sides.\\nNow what I'd like you to do- hold the towel\\nin your left hand, throw it over your left shoulder,\\nGrab the towel with your right hand, down low.\\nOkay, you guys got it all?\\nOkay, here we go-\\nnow, elbows close to the side.\\nOnce again holding 15 to 30 seconds\\nand you can do 3 to 5 of these, okay?\\nSo we're going to do 3.\\nAnd take it down.\\nNow remember stretching is to slight tension, no pain.\\nAnd let's just go ahead and relax it for a second\\nand then pull it back down.\\nA lot of times with the stretching each time you\\ndo it you might get a little bit more stretch out of it-\\nnot always but sometimes.\\nBut it's something that you need to work on, on a daily basis.\\nStretching you can do everyday, and relax it.\\nAnd let's do one more time.\\nWe're going to hold this one for a long time okay guys.\\nAnd take it down and hold.\\nOnce again, breathing in through your nose\\nand out through your mouth.\\nThat allows you to relax your body and allows\\nmaybe just a little bit more stretch.\\nOk and done.\\nBeautiful.\\nWhat we're going to do now\\ntake the towels, put them back under your chairs, have a seat.\\nWe're going to stretch out the ankles.\\nNow we did stretching the ankles in\\nour warm-up but, once again,\\nwe've done a lot of exercises between now and then.\\nAnd what we want to do is we want to\\nstretch those calf muscles and ankles back out.\\nSo what we're going to do, is everybody good?\\nPoint the toes and hold it.\\nAnd let's go ahead- we're going to\\ngo ahead point the toes back up toward the ceiling,\\nor towards your midsection,\\nand relax the shoulders.\\nSometimes I find myself tensing up a little bit, too.\\nSo if you're at home and\\nyou feel your shoulders tightening up,\\ngo ahead and relax.\\nGive yourself a little bobble head there\\nand point the toes.\\nAnd let's point them up toward the ceiling.\\nOkay, this time we're going to hold it for a bit longer,\\nand point.\\nAnd hold it for 5, 4, 3, 2,\\nand back up to the ceiling.\\nOkay, can you guys feel that working?\\nGROUP: Yes.\\nMS SANDY MAGRATH: Good job, good job.\\nOkay hold it for 5, 4, 3, 2, and 1.\\nYou guys did a great job.\\nYou guys at home I hope you enjoyed the workout.\\nThank you so much.\", start_char_idx=9099, end_char_idx=12496, text_template='{metadata_str}\\n\\n{content}', metadata_template='{key}: {value}', metadata_seperator='\\n'), score=None)], metadata={'303f4b2d-e77f-4799-88a5-bb2802b884e1': {'video_id': 'Ev6yE55kYGw'}, '2bfcf94b-605d-428c-8417-13a3627bf3a4': {'video_id': 'Ev6yE55kYGw'}, 'f8f1e60a-80e2-405e-81b4-7ad1eb2e8d12': {'video_id': 'Ev6yE55kYGw'}, '45475839-eb46-452f-9020-9708b8bebff9': {'video_id': 'Ev6yE55kYGw'}})]} at 0x0000020231DF7FB0>"
      ]
     },
     "execution_count": 1,
     "metadata": {},
     "output_type": "execute_result"
    }
   ],
   "source": [
    "from lib import tools\n",
    "tools.recommend_videos(\"Exercising\")"
   ]
  },
  {
   "cell_type": "code",
   "execution_count": 1,
   "metadata": {},
   "outputs": [],
   "source": [
    "from dotenv import load_dotenv\n",
    "load_dotenv()\n",
    "from lib import tools\n",
    "\n",
    "tools.send_mail(\"Hi\",\"test mail\")"
   ]
  },
  {
   "cell_type": "code",
   "execution_count": 1,
   "metadata": {},
   "outputs": [
    {
     "name": "stderr",
     "output_type": "stream",
     "text": [
      "c:\\Users\\prasannan-robots\\Desktop\\Mentor\\Mentor-Server\\devenv\\Lib\\site-packages\\tqdm\\auto.py:21: TqdmWarning: IProgress not found. Please update jupyter and ipywidgets. See https://ipywidgets.readthedocs.io/en/stable/user_install.html\n",
      "  from .autonotebook import tqdm as notebook_tqdm\n"
     ]
    },
    {
     "name": "stdout",
     "output_type": "stream",
     "text": [
      "{'5 BEST Exam Tips to Score Good MARKS🔥| How to Study For Exams?| Prashant Kirad': ['ToAM-WQFOsU', '5 Super tips to Score good in Exams Filo App download link ( use code - PKFILO100) https://app.findfilo.com/download/2eb3 ...'], 'how to study SMART for EXAMS | test/exam tips': ['SQqdNvc3gu0', 'are exams coming up and starting to stress you out? this video will outline a few techniques that you can use in order to ace your ...'], 'How to Study SMART ?🤯| 5 Secret Study Tips to Increase Your Marks| Prashant Kirad': ['lDMGWlNlljY', 'How to Study Smart not Hard   Follow your Prashant bhaiya on Instagram   ...'], 'how to STUDY for an exam THE NIGHT BEFORE (and still get all As)': ['b_ONZrWAUZU', \"So, you finally remembered that you have an exam tomorrow, but instead of studying you're watching youtube? That's okay ...\"], 'How I STUDY 24hrs BEFORE AN EXAM (and still get an A) STUDY VLOG ₊˚🎀📂⊹cramming, intense': ['QoIIsDy0AeA', \"୨୧⋆｡⋆ ♡ * moral of the story- don't do it and be better than me if you want to actually learn, this method of last minute ...\"], 'How to Study for Exams?🔥| 5 BEST Tips to Remember Everything you Read &amp; Score Highest Marks in Exams': ['Mq7oC3_nEDM', 'How to Study For Exams like Topper  - Scientific Tips | Best Learning / Memorizing tips & techniques to Memorize Fast ...'], 'How to Study for Exams?🔥| 3 Scientific Steps to Cover Syllabus in less time| Prashant Kirad': ['uPNfX-gV3zM', 'How to Study For Exams like Topper   Enroll in My 7 Day course   https://exphub.in/ Follow your Prashant bhaiya on Instagram   ...'], '6 Best Study Tips for Exams | How to Study for Exams | How to Score Top Marks in Exams Malayalam': ['UjmO703gaVw', 'In this video, we talk about 6 best study tips which will help you study and score top marks in your exams. These smart study tips ...'], 'The Brutal Study Tips that got Me Straight A&#39;s': ['axRN2hOZr5c', \"If you are tired of scrolling on the internet, trying to find the tips that will finally elevate your studying to the next level, then you're in ...\"], '5 Secret Study Tips To Score Highest in Every Exam 🔥 (Exam Tips)': ['bdrDloFbCQw', 'these study tips are the most powerful study tips to score highest in every exam and to concentrate on studies. if you want to be a ...']}\n",
      "\u001b[1;3;38;2;155;135;227m> Running module 98d8ac2e-daac-452b-8ac2-483b70aaaa51 with input: \n",
      "query: study tips for exams\n",
      "intent: The user is struggling with his exam preparation\n",
      "videos: {\"5 BEST Exam Tips to Score Good MARKS\\ud83d\\udd25| How to Study For Exams?| Prashant Kirad\": [\"ToAM-WQFOsU\", \"5 Super tips to Score good in Exams Filo App download link ( use code - PKFILO100) https:...\n",
      "\n",
      "\u001b[0m\u001b[1;3;38;2;155;135;227m> Running module 6906cc8f-0877-4425-8c5e-510a78204927 with input: \n",
      "messages: Hey you are a subpart of a Mentor a virtual productivity assistant. Your role is to suggest videos to users from the json that align with the intent and query. Only provide the videos that give value ...\n",
      "\n",
      "\u001b[0m\u001b[1;3;38;2;155;135;227m> Running module dbfa8699-5889-426e-9fd5-d0759ebd5e29 with input: \n",
      "input: assistant: {\n",
      "  \"videos\": [\n",
      "    {\n",
      "      \"title\": \"5 BEST Exam Tips to Score Good MARKS🔥| How to Study For Exams?| Prashant Kirad\",\n",
      "      \"video_id\": \"ToAM-WQFOsU\",\n",
      "      \"description\": \"ToAM-WQFOsU - 5...\n",
      "\n",
      "\u001b[0m"
     ]
    },
    {
     "data": {
      "text/plain": [
       "Videos(videos=[Video(title='5 BEST Exam Tips to Score Good MARKS🔥| How to Study For Exams?| Prashant Kirad', video_id='ToAM-WQFOsU', description='ToAM-WQFOsU - 5 Super tips to Score good in Exams Filo App download link ( use code - PKFILO100) https://app.findfilo.com/download/2eb3 ...'), Video(title='how to study SMART for EXAMS | test/exam tips', video_id='SQqdNvc3gu0', description='SQqdNvc3gu0 - are exams coming up and starting to stress you out? this video will outline a few techniques that you can use in order to ace your ...'), Video(title='How to Study SMART ?🤯| 5 Secret Study Tips to Increase Your Marks| Prashant Kirad', video_id='lDMGWlNlljY', description='lDMGWlNlljY - How to Study Smart not Hard Follow your Prashant bhaiya on Instagram ...'), Video(title='How to Study for Exams?🔥| 5 BEST Tips to Remember Everything you Read & Score Highest Marks in Exams', video_id='Mq7oC3_nEDM', description='Mq7oC3_nEDM - How to Study For Exams like Topper - Scientific Tips | Best Learning / Memorizing tips & techniques to Memorize Fast ...'), Video(title='How to Study for Exams?🔥| 3 Scientific Steps to Cover Syllabus in less time| Prashant Kirad', video_id='uPNfX-gV3zM', description='uPNfX-gV3zM - How to Study For Exams like Topper Enroll in My 7 Day course https://exphub.in/ Follow your Prashant bhaiya on Instagram ...'), Video(title='5 Secret Study Tips To Score Highest in Every Exam🔥 (Exam Tips)', video_id='bdrDloFbCQw', description='bdrDloFbCQw - these study tips are the most powerful study tips to score highest in every exam and to concentrate on studies. if you want to be a ...')])"
      ]
     },
     "execution_count": 1,
     "metadata": {},
     "output_type": "execute_result"
    }
   ],
   "source": [
    "from lib import recommendation_system\n",
    "yt=recommendation_system.youtube_recommender()\n",
    "yt.recommend_videos(\"study tips for exams\",\"The user is struggling with his exam preparation\")"
   ]
  },
  {
   "cell_type": "code",
   "execution_count": null,
   "metadata": {},
   "outputs": [],
   "source": []
  }
 ],
 "metadata": {
  "kernelspec": {
   "display_name": "env",
   "language": "python",
   "name": "python3"
  },
  "language_info": {
   "codemirror_mode": {
    "name": "ipython",
    "version": 3
   },
   "file_extension": ".py",
   "mimetype": "text/x-python",
   "name": "python",
   "nbconvert_exporter": "python",
   "pygments_lexer": "ipython3",
   "version": "3.11.8"
  },
  "orig_nbformat": 4
 },
 "nbformat": 4,
 "nbformat_minor": 2
}
